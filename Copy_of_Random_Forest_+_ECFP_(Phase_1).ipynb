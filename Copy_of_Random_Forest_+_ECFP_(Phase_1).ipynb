{
  "cells": [
    {
      "cell_type": "markdown",
      "metadata": {
        "id": "_Xc6sO4pgB37"
      },
      "source": [
        "This notebook performs Phase 1 of our project proposal. We use concatenated Morgan fingerprint vectors for each drug-drug pair as the input X-values for a Random Forest model.\n",
        "\n",
        "\n",
        "Using drug-drug pairs obtained from the TWOSIDES database, selected for drug pairs that have kidney failure as a listed potential adverse effect, we perform initial investigation with a simple random forest model.\n",
        "- Cleaned (salts and minor components removed) and unclean datasets both investigated\n",
        "- For each the cleaned and uncleaned datasets, we investigate using the full-size dataset, which contains only 11% drug pairs that cause an adverse effect, and using random undersampling of the majority class to balance the dataset\n",
        "- K-fold cross validation (k=5) and leave-one-out validation are performed\n",
        "- After validation, a test dataset that was separated at the beginning will be used to assess performance\n",
        "- Balanced accuracy, AUROC, and F1 score will be reported"
      ]
    },
    {
      "cell_type": "markdown",
      "metadata": {
        "id": "JP97a_p7PV9e"
      },
      "source": [
        "###1. Setup"
      ]
    },
    {
      "cell_type": "code",
      "execution_count": null,
      "metadata": {
        "colab": {
          "base_uri": "https://localhost:8080/"
        },
        "id": "yzVbt1YKS7mu",
        "outputId": "ea48a133-8e60-4211-efd8-e58e6703ecc1"
      },
      "outputs": [
        {
          "output_type": "stream",
          "name": "stdout",
          "text": [
            "Mounted at /content/drive\n"
          ]
        }
      ],
      "source": [
        "# Mount Google Drive\n",
        "\n",
        "from google.colab import drive\n",
        "drive.mount('/content/drive')"
      ]
    },
    {
      "cell_type": "code",
      "execution_count": null,
      "metadata": {
        "id": "4uwtMdn7KzWp"
      },
      "outputs": [],
      "source": [
        "# Installs\n",
        "%%capture\n",
        "!pip install --pre deepchem==2.5.0\n",
        "!pip install rdkit==2022.3.4"
      ]
    },
    {
      "cell_type": "code",
      "execution_count": null,
      "metadata": {
        "id": "-k4lW8sRTAU6"
      },
      "outputs": [],
      "source": [
        "# Imports\n",
        "\n",
        "import pandas as pd\n",
        "import numpy as np\n",
        "import scipy\n",
        "import matplotlib.pyplot as plt\n",
        "import random\n",
        "\n",
        "from sklearn import metrics\n",
        "from sklearn import tree\n",
        "from sklearn.model_selection import train_test_split\n",
        "from sklearn.model_selection import KFold\n",
        "from sklearn.ensemble import RandomForestClassifier as RF\n",
        "from sklearn.metrics import accuracy_score, balanced_accuracy_score, roc_auc_score, precision_score, recall_score, f1_score\n",
        "\n",
        "from rdkit import Chem\n",
        "from rdkit.Chem import Descriptors, AllChem\n",
        "\n",
        "import deepchem as dc\n",
        "\n",
        "import imblearn\n",
        "from imblearn.under_sampling import RandomUnderSampler"
      ]
    },
    {
      "cell_type": "markdown",
      "metadata": {
        "id": "2O7_5LUXPatk"
      },
      "source": [
        "####Load in data (csv files created from separate notebook and exported)\n",
        "\n"
      ]
    },
    {
      "cell_type": "code",
      "execution_count": null,
      "metadata": {
        "colab": {
          "base_uri": "https://localhost:8080/",
          "height": 204
        },
        "id": "x0Hp5IuTTTpx",
        "outputId": "cd8aab5c-1f22-4817-b02b-96d581ecaae0"
      },
      "outputs": [
        {
          "output_type": "execute_result",
          "data": {
            "text/plain": [
              "                                               Drug1  \\\n",
              "0          CN1CCC23C4C1CC5=C2C(=C(C=C5)O)OC3C(=O)CC4   \n",
              "1                   COC1=CC(=C(C=C1)OC)C(CNC(=O)CN)O   \n",
              "2  CCCCC1=NC2(CCCC2)C(=O)N1CC3=CC=C(C=C3)C4=CC=CC...   \n",
              "3  CN(CC(CO)O)C(=O)C1=C(C(=C(C(=C1I)C(=O)NCC(CO)O...   \n",
              "4  CC1=NN=C(S1)SCC2=C(N3C(C(C3=O)NC(=O)CN4C=NN=N4...   \n",
              "\n",
              "                                               Drug2  Y  \n",
              "0  CC(C)C1=C(C(=C(C(=N1)C(C)C)COC)C2=CC=C(C=C2)F)...  0  \n",
              "1                CC1=C(C(=CC=C1)NC2=CC=CC=C2C(=O)O)C  0  \n",
              "2  CC1=C(SC=N1)C=CC2=C(N3C(C(C3=O)NC(=O)C(=NOC)C4...  0  \n",
              "3  CN1CC(=O)N2C(C1=O)CC3=C(C2C4=CC5=C(C=C4)OCO5)N...  0  \n",
              "4  CNC(=O)C1=NC=CC(=C1)OC2=CC=C(C=C2)NC(=O)NC3=CC...  0  "
            ],
            "text/html": [
              "\n",
              "  <div id=\"df-384400b5-1049-4de4-9c70-7082256b117d\" class=\"colab-df-container\">\n",
              "    <div>\n",
              "<style scoped>\n",
              "    .dataframe tbody tr th:only-of-type {\n",
              "        vertical-align: middle;\n",
              "    }\n",
              "\n",
              "    .dataframe tbody tr th {\n",
              "        vertical-align: top;\n",
              "    }\n",
              "\n",
              "    .dataframe thead th {\n",
              "        text-align: right;\n",
              "    }\n",
              "</style>\n",
              "<table border=\"1\" class=\"dataframe\">\n",
              "  <thead>\n",
              "    <tr style=\"text-align: right;\">\n",
              "      <th></th>\n",
              "      <th>Drug1</th>\n",
              "      <th>Drug2</th>\n",
              "      <th>Y</th>\n",
              "    </tr>\n",
              "  </thead>\n",
              "  <tbody>\n",
              "    <tr>\n",
              "      <th>0</th>\n",
              "      <td>CN1CCC23C4C1CC5=C2C(=C(C=C5)O)OC3C(=O)CC4</td>\n",
              "      <td>CC(C)C1=C(C(=C(C(=N1)C(C)C)COC)C2=CC=C(C=C2)F)...</td>\n",
              "      <td>0</td>\n",
              "    </tr>\n",
              "    <tr>\n",
              "      <th>1</th>\n",
              "      <td>COC1=CC(=C(C=C1)OC)C(CNC(=O)CN)O</td>\n",
              "      <td>CC1=C(C(=CC=C1)NC2=CC=CC=C2C(=O)O)C</td>\n",
              "      <td>0</td>\n",
              "    </tr>\n",
              "    <tr>\n",
              "      <th>2</th>\n",
              "      <td>CCCCC1=NC2(CCCC2)C(=O)N1CC3=CC=C(C=C3)C4=CC=CC...</td>\n",
              "      <td>CC1=C(SC=N1)C=CC2=C(N3C(C(C3=O)NC(=O)C(=NOC)C4...</td>\n",
              "      <td>0</td>\n",
              "    </tr>\n",
              "    <tr>\n",
              "      <th>3</th>\n",
              "      <td>CN(CC(CO)O)C(=O)C1=C(C(=C(C(=C1I)C(=O)NCC(CO)O...</td>\n",
              "      <td>CN1CC(=O)N2C(C1=O)CC3=C(C2C4=CC5=C(C=C4)OCO5)N...</td>\n",
              "      <td>0</td>\n",
              "    </tr>\n",
              "    <tr>\n",
              "      <th>4</th>\n",
              "      <td>CC1=NN=C(S1)SCC2=C(N3C(C(C3=O)NC(=O)CN4C=NN=N4...</td>\n",
              "      <td>CNC(=O)C1=NC=CC(=C1)OC2=CC=C(C=C2)NC(=O)NC3=CC...</td>\n",
              "      <td>0</td>\n",
              "    </tr>\n",
              "  </tbody>\n",
              "</table>\n",
              "</div>\n",
              "    <div class=\"colab-df-buttons\">\n",
              "\n",
              "  <div class=\"colab-df-container\">\n",
              "    <button class=\"colab-df-convert\" onclick=\"convertToInteractive('df-384400b5-1049-4de4-9c70-7082256b117d')\"\n",
              "            title=\"Convert this dataframe to an interactive table.\"\n",
              "            style=\"display:none;\">\n",
              "\n",
              "  <svg xmlns=\"http://www.w3.org/2000/svg\" height=\"24px\" viewBox=\"0 -960 960 960\">\n",
              "    <path d=\"M120-120v-720h720v720H120Zm60-500h600v-160H180v160Zm220 220h160v-160H400v160Zm0 220h160v-160H400v160ZM180-400h160v-160H180v160Zm440 0h160v-160H620v160ZM180-180h160v-160H180v160Zm440 0h160v-160H620v160Z\"/>\n",
              "  </svg>\n",
              "    </button>\n",
              "\n",
              "  <style>\n",
              "    .colab-df-container {\n",
              "      display:flex;\n",
              "      gap: 12px;\n",
              "    }\n",
              "\n",
              "    .colab-df-convert {\n",
              "      background-color: #E8F0FE;\n",
              "      border: none;\n",
              "      border-radius: 50%;\n",
              "      cursor: pointer;\n",
              "      display: none;\n",
              "      fill: #1967D2;\n",
              "      height: 32px;\n",
              "      padding: 0 0 0 0;\n",
              "      width: 32px;\n",
              "    }\n",
              "\n",
              "    .colab-df-convert:hover {\n",
              "      background-color: #E2EBFA;\n",
              "      box-shadow: 0px 1px 2px rgba(60, 64, 67, 0.3), 0px 1px 3px 1px rgba(60, 64, 67, 0.15);\n",
              "      fill: #174EA6;\n",
              "    }\n",
              "\n",
              "    .colab-df-buttons div {\n",
              "      margin-bottom: 4px;\n",
              "    }\n",
              "\n",
              "    [theme=dark] .colab-df-convert {\n",
              "      background-color: #3B4455;\n",
              "      fill: #D2E3FC;\n",
              "    }\n",
              "\n",
              "    [theme=dark] .colab-df-convert:hover {\n",
              "      background-color: #434B5C;\n",
              "      box-shadow: 0px 1px 3px 1px rgba(0, 0, 0, 0.15);\n",
              "      filter: drop-shadow(0px 1px 2px rgba(0, 0, 0, 0.3));\n",
              "      fill: #FFFFFF;\n",
              "    }\n",
              "  </style>\n",
              "\n",
              "    <script>\n",
              "      const buttonEl =\n",
              "        document.querySelector('#df-384400b5-1049-4de4-9c70-7082256b117d button.colab-df-convert');\n",
              "      buttonEl.style.display =\n",
              "        google.colab.kernel.accessAllowed ? 'block' : 'none';\n",
              "\n",
              "      async function convertToInteractive(key) {\n",
              "        const element = document.querySelector('#df-384400b5-1049-4de4-9c70-7082256b117d');\n",
              "        const dataTable =\n",
              "          await google.colab.kernel.invokeFunction('convertToInteractive',\n",
              "                                                    [key], {});\n",
              "        if (!dataTable) return;\n",
              "\n",
              "        const docLinkHtml = 'Like what you see? Visit the ' +\n",
              "          '<a target=\"_blank\" href=https://colab.research.google.com/notebooks/data_table.ipynb>data table notebook</a>'\n",
              "          + ' to learn more about interactive tables.';\n",
              "        element.innerHTML = '';\n",
              "        dataTable['output_type'] = 'display_data';\n",
              "        await google.colab.output.renderOutput(dataTable, element);\n",
              "        const docLink = document.createElement('div');\n",
              "        docLink.innerHTML = docLinkHtml;\n",
              "        element.appendChild(docLink);\n",
              "      }\n",
              "    </script>\n",
              "  </div>\n",
              "\n",
              "\n",
              "<div id=\"df-e40270d3-91cf-4432-96ef-f727f1bcf76e\">\n",
              "  <button class=\"colab-df-quickchart\" onclick=\"quickchart('df-e40270d3-91cf-4432-96ef-f727f1bcf76e')\"\n",
              "            title=\"Suggest charts\"\n",
              "            style=\"display:none;\">\n",
              "\n",
              "<svg xmlns=\"http://www.w3.org/2000/svg\" height=\"24px\"viewBox=\"0 0 24 24\"\n",
              "     width=\"24px\">\n",
              "    <g>\n",
              "        <path d=\"M19 3H5c-1.1 0-2 .9-2 2v14c0 1.1.9 2 2 2h14c1.1 0 2-.9 2-2V5c0-1.1-.9-2-2-2zM9 17H7v-7h2v7zm4 0h-2V7h2v10zm4 0h-2v-4h2v4z\"/>\n",
              "    </g>\n",
              "</svg>\n",
              "  </button>\n",
              "\n",
              "<style>\n",
              "  .colab-df-quickchart {\n",
              "      --bg-color: #E8F0FE;\n",
              "      --fill-color: #1967D2;\n",
              "      --hover-bg-color: #E2EBFA;\n",
              "      --hover-fill-color: #174EA6;\n",
              "      --disabled-fill-color: #AAA;\n",
              "      --disabled-bg-color: #DDD;\n",
              "  }\n",
              "\n",
              "  [theme=dark] .colab-df-quickchart {\n",
              "      --bg-color: #3B4455;\n",
              "      --fill-color: #D2E3FC;\n",
              "      --hover-bg-color: #434B5C;\n",
              "      --hover-fill-color: #FFFFFF;\n",
              "      --disabled-bg-color: #3B4455;\n",
              "      --disabled-fill-color: #666;\n",
              "  }\n",
              "\n",
              "  .colab-df-quickchart {\n",
              "    background-color: var(--bg-color);\n",
              "    border: none;\n",
              "    border-radius: 50%;\n",
              "    cursor: pointer;\n",
              "    display: none;\n",
              "    fill: var(--fill-color);\n",
              "    height: 32px;\n",
              "    padding: 0;\n",
              "    width: 32px;\n",
              "  }\n",
              "\n",
              "  .colab-df-quickchart:hover {\n",
              "    background-color: var(--hover-bg-color);\n",
              "    box-shadow: 0 1px 2px rgba(60, 64, 67, 0.3), 0 1px 3px 1px rgba(60, 64, 67, 0.15);\n",
              "    fill: var(--button-hover-fill-color);\n",
              "  }\n",
              "\n",
              "  .colab-df-quickchart-complete:disabled,\n",
              "  .colab-df-quickchart-complete:disabled:hover {\n",
              "    background-color: var(--disabled-bg-color);\n",
              "    fill: var(--disabled-fill-color);\n",
              "    box-shadow: none;\n",
              "  }\n",
              "\n",
              "  .colab-df-spinner {\n",
              "    border: 2px solid var(--fill-color);\n",
              "    border-color: transparent;\n",
              "    border-bottom-color: var(--fill-color);\n",
              "    animation:\n",
              "      spin 1s steps(1) infinite;\n",
              "  }\n",
              "\n",
              "  @keyframes spin {\n",
              "    0% {\n",
              "      border-color: transparent;\n",
              "      border-bottom-color: var(--fill-color);\n",
              "      border-left-color: var(--fill-color);\n",
              "    }\n",
              "    20% {\n",
              "      border-color: transparent;\n",
              "      border-left-color: var(--fill-color);\n",
              "      border-top-color: var(--fill-color);\n",
              "    }\n",
              "    30% {\n",
              "      border-color: transparent;\n",
              "      border-left-color: var(--fill-color);\n",
              "      border-top-color: var(--fill-color);\n",
              "      border-right-color: var(--fill-color);\n",
              "    }\n",
              "    40% {\n",
              "      border-color: transparent;\n",
              "      border-right-color: var(--fill-color);\n",
              "      border-top-color: var(--fill-color);\n",
              "    }\n",
              "    60% {\n",
              "      border-color: transparent;\n",
              "      border-right-color: var(--fill-color);\n",
              "    }\n",
              "    80% {\n",
              "      border-color: transparent;\n",
              "      border-right-color: var(--fill-color);\n",
              "      border-bottom-color: var(--fill-color);\n",
              "    }\n",
              "    90% {\n",
              "      border-color: transparent;\n",
              "      border-bottom-color: var(--fill-color);\n",
              "    }\n",
              "  }\n",
              "</style>\n",
              "\n",
              "  <script>\n",
              "    async function quickchart(key) {\n",
              "      const quickchartButtonEl =\n",
              "        document.querySelector('#' + key + ' button');\n",
              "      quickchartButtonEl.disabled = true;  // To prevent multiple clicks.\n",
              "      quickchartButtonEl.classList.add('colab-df-spinner');\n",
              "      try {\n",
              "        const charts = await google.colab.kernel.invokeFunction(\n",
              "            'suggestCharts', [key], {});\n",
              "      } catch (error) {\n",
              "        console.error('Error during call to suggestCharts:', error);\n",
              "      }\n",
              "      quickchartButtonEl.classList.remove('colab-df-spinner');\n",
              "      quickchartButtonEl.classList.add('colab-df-quickchart-complete');\n",
              "    }\n",
              "    (() => {\n",
              "      let quickchartButtonEl =\n",
              "        document.querySelector('#df-e40270d3-91cf-4432-96ef-f727f1bcf76e button');\n",
              "      quickchartButtonEl.style.display =\n",
              "        google.colab.kernel.accessAllowed ? 'block' : 'none';\n",
              "    })();\n",
              "  </script>\n",
              "</div>\n",
              "    </div>\n",
              "  </div>\n"
            ]
          },
          "metadata": {},
          "execution_count": 25
        }
      ],
      "source": [
        "# Load in train and test csv files\n",
        "dirty_test_file = \"/content/drive/MyDrive/BME 590 Colab files/dirty_test_ddi.csv\"\n",
        "dirty_train_file = \"/content/drive/MyDrive/BME 590 Colab files/dirty_train_ddi.csv\"\n",
        "\n",
        "# Get smiles and interaction (0 or 1) from the dataframe\n",
        "df_train = pd.read_csv(dirty_train_file)\n",
        "df_train = df_train.iloc[:, [3, 5, 6]] #get smiles1, smiles2, and interaction classification (1 or 0)\n",
        "df_train.head()"
      ]
    },
    {
      "cell_type": "code",
      "execution_count": null,
      "metadata": {
        "colab": {
          "base_uri": "https://localhost:8080/"
        },
        "id": "Ghfak9ULKQCU",
        "outputId": "62950370-be2b-4cd7-8680-a02db6af3f4b"
      },
      "outputs": [
        {
          "output_type": "stream",
          "name": "stdout",
          "text": [
            "Dataframe length (uncleaned data): 138532\n",
            "Number of drug pairs with DDIs 15134 \t 10.924551728120578 % of dataframe\n",
            "Number of non-DDI drug pairs 123398 \t 89.07544827187942 % of dataframe\n"
          ]
        }
      ],
      "source": [
        "# Quick look at dataframe\n",
        "y = df_train.Y\n",
        "l = len(df_train)\n",
        "actives = np.sum(y)\n",
        "\n",
        "print(\"Dataframe length (uncleaned data):\", l)\n",
        "print(\"Number of drug pairs with DDIs\",actives, \"\\t\",actives/l*100, \"% of dataframe\")\n",
        "print(\"Number of non-DDI drug pairs\", l - actives, \"\\t\",(l-actives)/l*100, \"% of dataframe\")"
      ]
    },
    {
      "cell_type": "code",
      "source": [
        "# Load in train and test csv files for clean data\n",
        "clean_test_file = \"/content/drive/MyDrive/BME 590 Colab files/clean_test_ddi.csv\"\n",
        "clean_train_file = \"/content/drive/MyDrive/BME 590 Colab files/clean_train_ddi.csv\"\n",
        "\n",
        "# Get smiles and interaction (0 or 1) from the dataframe\n",
        "df_train_clean = pd.read_csv(clean_train_file)\n",
        "df_train_clean = df_train_clean.iloc[:, [3, 5, 6]] # Get smiles1, smiles2, and interaction classification (1 or 0)\n",
        "df_train_clean.head()"
      ],
      "metadata": {
        "colab": {
          "base_uri": "https://localhost:8080/",
          "height": 204
        },
        "id": "QnfLNwc72Bch",
        "outputId": "a592da7b-6ff3-44c7-8652-4d3906a495e5"
      },
      "execution_count": null,
      "outputs": [
        {
          "output_type": "execute_result",
          "data": {
            "text/plain": [
              "                                               Drug1  \\\n",
              "0      CC12CCC3C(C1CCC2(C#C)O)CCC4=CC5=C(CC34C)C=NO5   \n",
              "1  CC(C)C1=C(C(=C(C(=N1)C(C)C)COC)C2=CC=C(C=C2)F)...   \n",
              "2                                  [O-]S(=O)(=O)[O-]   \n",
              "3                                 CC(=O)NC(CS)C(=O)O   \n",
              "4  CC1(C(N2C(S1)C(C2=O)NC(=O)C(C3=CC=C(C=C3)O)N)C...   \n",
              "\n",
              "                                               Drug2  Y  \n",
              "0  CCN1CCN(C(=O)C1=O)C(=O)NC(C2=CC=CC=C2)C(=O)NC3...  0  \n",
              "1                                      C(N)(N)(Cl)Cl  0  \n",
              "2  CNC(=O)C1=NC=CC(=C1)OC2=CC=C(C=C2)NC(=O)NC3=CC...  0  \n",
              "3  C1=CC(=CC=C1COC(CN2C=CN=C2)C3=C(C=C(C=C3)Cl)Cl)Cl  0  \n",
              "4       CC#CCC(C)C(C=CC1C(CC2C1CC(=CCCCC(=O)O)C2)O)O  0  "
            ],
            "text/html": [
              "\n",
              "  <div id=\"df-81d21c8b-6463-4db7-8974-17b22faeec03\" class=\"colab-df-container\">\n",
              "    <div>\n",
              "<style scoped>\n",
              "    .dataframe tbody tr th:only-of-type {\n",
              "        vertical-align: middle;\n",
              "    }\n",
              "\n",
              "    .dataframe tbody tr th {\n",
              "        vertical-align: top;\n",
              "    }\n",
              "\n",
              "    .dataframe thead th {\n",
              "        text-align: right;\n",
              "    }\n",
              "</style>\n",
              "<table border=\"1\" class=\"dataframe\">\n",
              "  <thead>\n",
              "    <tr style=\"text-align: right;\">\n",
              "      <th></th>\n",
              "      <th>Drug1</th>\n",
              "      <th>Drug2</th>\n",
              "      <th>Y</th>\n",
              "    </tr>\n",
              "  </thead>\n",
              "  <tbody>\n",
              "    <tr>\n",
              "      <th>0</th>\n",
              "      <td>CC12CCC3C(C1CCC2(C#C)O)CCC4=CC5=C(CC34C)C=NO5</td>\n",
              "      <td>CCN1CCN(C(=O)C1=O)C(=O)NC(C2=CC=CC=C2)C(=O)NC3...</td>\n",
              "      <td>0</td>\n",
              "    </tr>\n",
              "    <tr>\n",
              "      <th>1</th>\n",
              "      <td>CC(C)C1=C(C(=C(C(=N1)C(C)C)COC)C2=CC=C(C=C2)F)...</td>\n",
              "      <td>C(N)(N)(Cl)Cl</td>\n",
              "      <td>0</td>\n",
              "    </tr>\n",
              "    <tr>\n",
              "      <th>2</th>\n",
              "      <td>[O-]S(=O)(=O)[O-]</td>\n",
              "      <td>CNC(=O)C1=NC=CC(=C1)OC2=CC=C(C=C2)NC(=O)NC3=CC...</td>\n",
              "      <td>0</td>\n",
              "    </tr>\n",
              "    <tr>\n",
              "      <th>3</th>\n",
              "      <td>CC(=O)NC(CS)C(=O)O</td>\n",
              "      <td>C1=CC(=CC=C1COC(CN2C=CN=C2)C3=C(C=C(C=C3)Cl)Cl)Cl</td>\n",
              "      <td>0</td>\n",
              "    </tr>\n",
              "    <tr>\n",
              "      <th>4</th>\n",
              "      <td>CC1(C(N2C(S1)C(C2=O)NC(=O)C(C3=CC=C(C=C3)O)N)C...</td>\n",
              "      <td>CC#CCC(C)C(C=CC1C(CC2C1CC(=CCCCC(=O)O)C2)O)O</td>\n",
              "      <td>0</td>\n",
              "    </tr>\n",
              "  </tbody>\n",
              "</table>\n",
              "</div>\n",
              "    <div class=\"colab-df-buttons\">\n",
              "\n",
              "  <div class=\"colab-df-container\">\n",
              "    <button class=\"colab-df-convert\" onclick=\"convertToInteractive('df-81d21c8b-6463-4db7-8974-17b22faeec03')\"\n",
              "            title=\"Convert this dataframe to an interactive table.\"\n",
              "            style=\"display:none;\">\n",
              "\n",
              "  <svg xmlns=\"http://www.w3.org/2000/svg\" height=\"24px\" viewBox=\"0 -960 960 960\">\n",
              "    <path d=\"M120-120v-720h720v720H120Zm60-500h600v-160H180v160Zm220 220h160v-160H400v160Zm0 220h160v-160H400v160ZM180-400h160v-160H180v160Zm440 0h160v-160H620v160ZM180-180h160v-160H180v160Zm440 0h160v-160H620v160Z\"/>\n",
              "  </svg>\n",
              "    </button>\n",
              "\n",
              "  <style>\n",
              "    .colab-df-container {\n",
              "      display:flex;\n",
              "      gap: 12px;\n",
              "    }\n",
              "\n",
              "    .colab-df-convert {\n",
              "      background-color: #E8F0FE;\n",
              "      border: none;\n",
              "      border-radius: 50%;\n",
              "      cursor: pointer;\n",
              "      display: none;\n",
              "      fill: #1967D2;\n",
              "      height: 32px;\n",
              "      padding: 0 0 0 0;\n",
              "      width: 32px;\n",
              "    }\n",
              "\n",
              "    .colab-df-convert:hover {\n",
              "      background-color: #E2EBFA;\n",
              "      box-shadow: 0px 1px 2px rgba(60, 64, 67, 0.3), 0px 1px 3px 1px rgba(60, 64, 67, 0.15);\n",
              "      fill: #174EA6;\n",
              "    }\n",
              "\n",
              "    .colab-df-buttons div {\n",
              "      margin-bottom: 4px;\n",
              "    }\n",
              "\n",
              "    [theme=dark] .colab-df-convert {\n",
              "      background-color: #3B4455;\n",
              "      fill: #D2E3FC;\n",
              "    }\n",
              "\n",
              "    [theme=dark] .colab-df-convert:hover {\n",
              "      background-color: #434B5C;\n",
              "      box-shadow: 0px 1px 3px 1px rgba(0, 0, 0, 0.15);\n",
              "      filter: drop-shadow(0px 1px 2px rgba(0, 0, 0, 0.3));\n",
              "      fill: #FFFFFF;\n",
              "    }\n",
              "  </style>\n",
              "\n",
              "    <script>\n",
              "      const buttonEl =\n",
              "        document.querySelector('#df-81d21c8b-6463-4db7-8974-17b22faeec03 button.colab-df-convert');\n",
              "      buttonEl.style.display =\n",
              "        google.colab.kernel.accessAllowed ? 'block' : 'none';\n",
              "\n",
              "      async function convertToInteractive(key) {\n",
              "        const element = document.querySelector('#df-81d21c8b-6463-4db7-8974-17b22faeec03');\n",
              "        const dataTable =\n",
              "          await google.colab.kernel.invokeFunction('convertToInteractive',\n",
              "                                                    [key], {});\n",
              "        if (!dataTable) return;\n",
              "\n",
              "        const docLinkHtml = 'Like what you see? Visit the ' +\n",
              "          '<a target=\"_blank\" href=https://colab.research.google.com/notebooks/data_table.ipynb>data table notebook</a>'\n",
              "          + ' to learn more about interactive tables.';\n",
              "        element.innerHTML = '';\n",
              "        dataTable['output_type'] = 'display_data';\n",
              "        await google.colab.output.renderOutput(dataTable, element);\n",
              "        const docLink = document.createElement('div');\n",
              "        docLink.innerHTML = docLinkHtml;\n",
              "        element.appendChild(docLink);\n",
              "      }\n",
              "    </script>\n",
              "  </div>\n",
              "\n",
              "\n",
              "<div id=\"df-1402bd54-cf6f-456d-ae15-efddbc8ff505\">\n",
              "  <button class=\"colab-df-quickchart\" onclick=\"quickchart('df-1402bd54-cf6f-456d-ae15-efddbc8ff505')\"\n",
              "            title=\"Suggest charts\"\n",
              "            style=\"display:none;\">\n",
              "\n",
              "<svg xmlns=\"http://www.w3.org/2000/svg\" height=\"24px\"viewBox=\"0 0 24 24\"\n",
              "     width=\"24px\">\n",
              "    <g>\n",
              "        <path d=\"M19 3H5c-1.1 0-2 .9-2 2v14c0 1.1.9 2 2 2h14c1.1 0 2-.9 2-2V5c0-1.1-.9-2-2-2zM9 17H7v-7h2v7zm4 0h-2V7h2v10zm4 0h-2v-4h2v4z\"/>\n",
              "    </g>\n",
              "</svg>\n",
              "  </button>\n",
              "\n",
              "<style>\n",
              "  .colab-df-quickchart {\n",
              "      --bg-color: #E8F0FE;\n",
              "      --fill-color: #1967D2;\n",
              "      --hover-bg-color: #E2EBFA;\n",
              "      --hover-fill-color: #174EA6;\n",
              "      --disabled-fill-color: #AAA;\n",
              "      --disabled-bg-color: #DDD;\n",
              "  }\n",
              "\n",
              "  [theme=dark] .colab-df-quickchart {\n",
              "      --bg-color: #3B4455;\n",
              "      --fill-color: #D2E3FC;\n",
              "      --hover-bg-color: #434B5C;\n",
              "      --hover-fill-color: #FFFFFF;\n",
              "      --disabled-bg-color: #3B4455;\n",
              "      --disabled-fill-color: #666;\n",
              "  }\n",
              "\n",
              "  .colab-df-quickchart {\n",
              "    background-color: var(--bg-color);\n",
              "    border: none;\n",
              "    border-radius: 50%;\n",
              "    cursor: pointer;\n",
              "    display: none;\n",
              "    fill: var(--fill-color);\n",
              "    height: 32px;\n",
              "    padding: 0;\n",
              "    width: 32px;\n",
              "  }\n",
              "\n",
              "  .colab-df-quickchart:hover {\n",
              "    background-color: var(--hover-bg-color);\n",
              "    box-shadow: 0 1px 2px rgba(60, 64, 67, 0.3), 0 1px 3px 1px rgba(60, 64, 67, 0.15);\n",
              "    fill: var(--button-hover-fill-color);\n",
              "  }\n",
              "\n",
              "  .colab-df-quickchart-complete:disabled,\n",
              "  .colab-df-quickchart-complete:disabled:hover {\n",
              "    background-color: var(--disabled-bg-color);\n",
              "    fill: var(--disabled-fill-color);\n",
              "    box-shadow: none;\n",
              "  }\n",
              "\n",
              "  .colab-df-spinner {\n",
              "    border: 2px solid var(--fill-color);\n",
              "    border-color: transparent;\n",
              "    border-bottom-color: var(--fill-color);\n",
              "    animation:\n",
              "      spin 1s steps(1) infinite;\n",
              "  }\n",
              "\n",
              "  @keyframes spin {\n",
              "    0% {\n",
              "      border-color: transparent;\n",
              "      border-bottom-color: var(--fill-color);\n",
              "      border-left-color: var(--fill-color);\n",
              "    }\n",
              "    20% {\n",
              "      border-color: transparent;\n",
              "      border-left-color: var(--fill-color);\n",
              "      border-top-color: var(--fill-color);\n",
              "    }\n",
              "    30% {\n",
              "      border-color: transparent;\n",
              "      border-left-color: var(--fill-color);\n",
              "      border-top-color: var(--fill-color);\n",
              "      border-right-color: var(--fill-color);\n",
              "    }\n",
              "    40% {\n",
              "      border-color: transparent;\n",
              "      border-right-color: var(--fill-color);\n",
              "      border-top-color: var(--fill-color);\n",
              "    }\n",
              "    60% {\n",
              "      border-color: transparent;\n",
              "      border-right-color: var(--fill-color);\n",
              "    }\n",
              "    80% {\n",
              "      border-color: transparent;\n",
              "      border-right-color: var(--fill-color);\n",
              "      border-bottom-color: var(--fill-color);\n",
              "    }\n",
              "    90% {\n",
              "      border-color: transparent;\n",
              "      border-bottom-color: var(--fill-color);\n",
              "    }\n",
              "  }\n",
              "</style>\n",
              "\n",
              "  <script>\n",
              "    async function quickchart(key) {\n",
              "      const quickchartButtonEl =\n",
              "        document.querySelector('#' + key + ' button');\n",
              "      quickchartButtonEl.disabled = true;  // To prevent multiple clicks.\n",
              "      quickchartButtonEl.classList.add('colab-df-spinner');\n",
              "      try {\n",
              "        const charts = await google.colab.kernel.invokeFunction(\n",
              "            'suggestCharts', [key], {});\n",
              "      } catch (error) {\n",
              "        console.error('Error during call to suggestCharts:', error);\n",
              "      }\n",
              "      quickchartButtonEl.classList.remove('colab-df-spinner');\n",
              "      quickchartButtonEl.classList.add('colab-df-quickchart-complete');\n",
              "    }\n",
              "    (() => {\n",
              "      let quickchartButtonEl =\n",
              "        document.querySelector('#df-1402bd54-cf6f-456d-ae15-efddbc8ff505 button');\n",
              "      quickchartButtonEl.style.display =\n",
              "        google.colab.kernel.accessAllowed ? 'block' : 'none';\n",
              "    })();\n",
              "  </script>\n",
              "</div>\n",
              "    </div>\n",
              "  </div>\n"
            ]
          },
          "metadata": {},
          "execution_count": 6
        }
      ]
    },
    {
      "cell_type": "code",
      "source": [
        "# Quick look at dataframe\n",
        "y_clean = df_train_clean.Y\n",
        "l = len(df_train_clean)\n",
        "actives = np.sum(y_clean)\n",
        "\n",
        "print(\"Dataframe length:\", l)\n",
        "print(\"Number of drug pairs with DDIs\",actives, \"\\t\",actives/l*100, \"% of dataframe\")\n",
        "print(\"Number of non-DDI drug pairs\", l - actives, \"\\t\",(l-actives)/l*100, \"% of dataframe\")"
      ],
      "metadata": {
        "colab": {
          "base_uri": "https://localhost:8080/"
        },
        "id": "Pb7AtTMs2u7r",
        "outputId": "4d7fe401-4330-4706-ee1e-0a65709d2c16"
      },
      "execution_count": null,
      "outputs": [
        {
          "output_type": "stream",
          "name": "stdout",
          "text": [
            "Dataframe length: 136188\n",
            "Number of drug pairs with DDIs 14804 \t 10.870267571298498 % of dataframe\n",
            "Number of non-DDI drug pairs 121384 \t 89.1297324287015 % of dataframe\n"
          ]
        }
      ]
    },
    {
      "cell_type": "code",
      "source": [
        "# Convert drug-drug pairs to concatentated morgan fingerprints\n",
        "\n",
        "def morgan_concat(data): # input dataframe with columns \"Drug1\" and \"Drug2\", returns concatenated Morgan fingerprints\n",
        "  r = 2\n",
        "  d = 1024\n",
        "  fps = []\n",
        "\n",
        "  for ind in range(len(data)):\n",
        "    # SMILES\n",
        "    d1 = data['Drug1'][ind]\n",
        "    d2 = data['Drug2'][ind]\n",
        "\n",
        "    # fingerprints from rdkit mols\n",
        "    fp1 = AllChem.GetMorganFingerprintAsBitVect(Chem.MolFromSmiles(d1), r, nBits = d, useChirality = True)\n",
        "    fp2 = AllChem.GetMorganFingerprintAsBitVect(Chem.MolFromSmiles(d2), r, nBits = d, useChirality = True)\n",
        "    fps.append(fp1+fp2)\n",
        "\n",
        "  return fps"
      ],
      "metadata": {
        "id": "JZgPR5lIKHPu"
      },
      "execution_count": null,
      "outputs": []
    },
    {
      "cell_type": "code",
      "source": [
        "#perform random undersampling of non-DDI drug pairs to balance the dataset\n",
        "\n",
        "#undersample = RandomUnderSampler(sampling_strategy='majority') #in majority sampling strategy, will undersmaple the majority class to be the same size as minority. We can play with other methods\n",
        "#X_under_unclean, y_under_unclean = undersample.fit_resample(fps_unclean_train, y)\n",
        "\n",
        "#print(\"Size of balanced dataset from undersampling\",len(y_under_unclean))\n",
        "#print(\"Number of DDI pairs\",np.sum(y_under_unclean))"
      ],
      "metadata": {
        "colab": {
          "base_uri": "https://localhost:8080/"
        },
        "id": "ilN8ImStoN49",
        "outputId": "ad9972ce-75ea-4ebb-d980-9f00bc2ac94f"
      },
      "execution_count": null,
      "outputs": [
        {
          "output_type": "stream",
          "name": "stdout",
          "text": [
            "Size of balanced dataset from undersampling 30268\n",
            "Number of DDI pairs 15134\n"
          ]
        }
      ]
    },
    {
      "cell_type": "markdown",
      "source": [
        "###2. K-fold cross-validation"
      ],
      "metadata": {
        "id": "qDDqC13s_QPV"
      }
    },
    {
      "cell_type": "code",
      "source": [
        "def k_fold_validation(X, y, n_splits = 5, balance = False): #x is concatenated fingerprints, y is array of 0s and 1s\n",
        "\n",
        "  # define k-fold split\n",
        "  kFold=KFold(n_splits = n_splits, random_state = 42, shuffle = True)\n",
        "\n",
        "  # initialize arrays to store predictions and metrics\n",
        "  predictions = np.array([])\n",
        "  true_values = np.array([])\n",
        "  acc = []\n",
        "  bal_acc = []\n",
        "  auroc = []\n",
        "  f1 = []\n",
        "  precision = []\n",
        "  recall = []\n",
        "\n",
        "  k_count = 0\n",
        "\n",
        "  for train_index,test_index in kFold.split(X):\n",
        "    print(k_count)\n",
        "    k_count+=1\n",
        "\n",
        "    y_train, y_test = y[train_index], y[test_index]\n",
        "    X_train = [X[index] for index in train_index]\n",
        "    X_test = [X[index] for index in test_index]\n",
        "\n",
        "    if balance == True: #balance the training set (not the test/validation set)\n",
        "        # Initialize undersampler\n",
        "        undersample = RandomUnderSampler(sampling_strategy = 'majority')\n",
        "        X_train, y_train = undersample.fit_resample(X_train, y_train)\n",
        "        print(\"Size of training\", len (X_train))\n",
        "\n",
        "    #train random forest model\n",
        "    model = RF()\n",
        "    model.fit(X_train,y_train)\n",
        "\n",
        "    #get predictions\n",
        "    y_pred = model.predict(X_test)\n",
        "    y_prob = model.predict_proba(X_test)\n",
        "    y_true = y_test\n",
        "\n",
        "    #metrics\n",
        "    acc.append(accuracy_score(y_true, y_pred))\n",
        "    bal_acc.append(balanced_accuracy_score(y_true, y_pred))\n",
        "    precision.append(precision_score(y_true, y_pred))\n",
        "    recall.append(recall_score(y_true, y_pred))\n",
        "    f1.append(f1_score(y_true, y_pred))\n",
        "    auroc.append(roc_auc_score(y_true, y_prob[:,1]))\n",
        "\n",
        "    print(bal_acc)\n",
        "    print(f1)\n",
        "    print(auroc)\n",
        "\n",
        "    predictions = np.append(predictions, y_pred)\n",
        "    true_values = np.append(true_values,y_true)\n",
        "\n",
        "  return predictions, true_values, acc, bal_acc, precision, recall, f1, auroc"
      ],
      "metadata": {
        "id": "8SYtEOxQuf3R"
      },
      "execution_count": null,
      "outputs": []
    },
    {
      "cell_type": "markdown",
      "source": [
        "####2.1. Unclean dataset k-fold (k=5) cross validation"
      ],
      "metadata": {
        "id": "CFaM6gaMiKFW"
      }
    },
    {
      "cell_type": "code",
      "source": [
        "# get fingerprints from full-length dirty training dataset\n",
        "fps_unclean_train = morgan_concat(df_train)"
      ],
      "metadata": {
        "id": "Zp3woZUlihps"
      },
      "execution_count": null,
      "outputs": []
    },
    {
      "cell_type": "markdown",
      "source": [
        "Balanced"
      ],
      "metadata": {
        "id": "pVObR7leQPPQ"
      }
    },
    {
      "cell_type": "code",
      "source": [
        "# run the k_fold cross validation\n",
        "# unclean_balanced_kfold = k_fold_validation(X_under_unclean, y_under_unclean)\n",
        "\n",
        "unclean_balanced_kfold = k_fold_validation(fps_unclean_train, y, balance = True)"
      ],
      "metadata": {
        "id": "JSgKCJvamGBI"
      },
      "execution_count": null,
      "outputs": []
    },
    {
      "cell_type": "code",
      "execution_count": null,
      "metadata": {
        "colab": {
          "base_uri": "https://localhost:8080/"
        },
        "id": "tSROBYwrk4se",
        "outputId": "bfe68ea8-3367-4deb-9274-d4f7d66b4877"
      },
      "outputs": [
        {
          "output_type": "stream",
          "name": "stdout",
          "text": [
            "Balanced, unclean data with k-fold (k=5) cross validation, averaged metrics \n",
            "\n",
            "Accuracy : 0.7499206473148806\n",
            "Balanced Accuracy : 0.7703518036956979\n",
            "Precision : 0.27639189530625446\n",
            "Recall : 0.7964807578757316\n",
            "F1 score : 0.4103209126802671\n",
            "AUROC : 0.8453943371942712\n"
          ]
        }
      ],
      "source": [
        "predictions1, true_values1, acc1, bal_acc1, precision1, recall1, f1_1, auroc1= unclean_balanced_kfold\n",
        "\n",
        "metrics = [\"Accuracy\", \"Balanced Accuracy\", \"Precision\", \"Recall\", \"F1 score\", \"AUROC\"]\n",
        "\n",
        "print(\"Balanced, unclean data with k-fold (k=5) cross validation, averaged metrics \\n\")\n",
        "for i in range(len(metrics)):\n",
        "  print(metrics[i],\":\", np.mean(unclean_balanced_kfold[i+2]))\n"
      ]
    },
    {
      "cell_type": "markdown",
      "source": [
        "Unbalanced"
      ],
      "metadata": {
        "id": "x5akMt3np7d-"
      }
    },
    {
      "cell_type": "code",
      "source": [
        "unclean_unbalanced_kfold = k_fold_validation(fps_unclean_train, y, balance = \"False\") #using whole dataset"
      ],
      "metadata": {
        "colab": {
          "base_uri": "https://localhost:8080/"
        },
        "id": "Kb1mVBmXuPPZ",
        "outputId": "d6f3e078-4153-49da-c42c-6947ac2d1057"
      },
      "execution_count": null,
      "outputs": [
        {
          "output_type": "stream",
          "name": "stdout",
          "text": [
            "0\n",
            "[0.5306467824179913]\n",
            "[0.12352772191898881]\n",
            "[0.8271302871736368]\n",
            "1\n",
            "[0.5306467824179913, 0.5255286197149361]\n",
            "[0.12352772191898881, 0.10780559646539029]\n",
            "[0.8271302871736368, 0.8262729748944957]\n",
            "2\n",
            "[0.5306467824179913, 0.5255286197149361, 0.5259056073144637]\n",
            "[0.12352772191898881, 0.10780559646539029, 0.1072644721906924]\n",
            "[0.8271302871736368, 0.8262729748944957, 0.8318699295171234]\n",
            "3\n",
            "[0.5306467824179913, 0.5255286197149361, 0.5259056073144637, 0.5311492619957339]\n",
            "[0.12352772191898881, 0.10780559646539029, 0.1072644721906924, 0.12463599301106582]\n",
            "[0.8271302871736368, 0.8262729748944957, 0.8318699295171234, 0.8242645733501417]\n",
            "4\n",
            "[0.5306467824179913, 0.5255286197149361, 0.5259056073144637, 0.5311492619957339, 0.5285151942577082]\n",
            "[0.12352772191898881, 0.10780559646539029, 0.1072644721906924, 0.12463599301106582, 0.11582568807339451]\n",
            "[0.8271302871736368, 0.8262729748944957, 0.8318699295171234, 0.8242645733501417, 0.8279444477058281]\n"
          ]
        }
      ]
    },
    {
      "cell_type": "code",
      "source": [
        "predictions2, true_values2, acc2, bal_acc2, precision2, recall2, f1_2, auroc2= unclean_unbalanced_kfold\n",
        "\n",
        "metrics = [\"Accuracy\", \"Balanced Accuracy\", \"Precision\", \"Recall\", \"F1 score\", \"AUROC\"]\n",
        "\n",
        "print(\"Unbalanced, unclean data with k-fold (k=5) cross validation, averaged metrics \\n\")\n",
        "for i in range(len(metrics)):\n",
        "  print(metrics[i],\":\", np.mean(unclean_unbalanced_kfold[i+2]))"
      ],
      "metadata": {
        "colab": {
          "base_uri": "https://localhost:8080/"
        },
        "id": "2AfI1KsDucmk",
        "outputId": "c322c736-02c3-4c22-9efd-55d1e518db7f"
      },
      "execution_count": null,
      "outputs": [
        {
          "output_type": "stream",
          "name": "stdout",
          "text": [
            "Unbalanced, unclean data with k-fold (k=5) cross validation, averaged metrics \n",
            "\n",
            "Accuracy : 0.889440694716891\n",
            "Balanced Accuracy : 0.5283490931401666\n",
            "Precision : 0.45944930647430426\n",
            "Recall : 0.0662990000026496\n",
            "F1 score : 0.11581189433190638\n",
            "AUROC : 0.8274964425282452\n"
          ]
        }
      ]
    },
    {
      "cell_type": "markdown",
      "source": [
        "####2.2 Clean dataset"
      ],
      "metadata": {
        "id": "9ZeJTDl2Qmp1"
      }
    },
    {
      "cell_type": "code",
      "source": [
        "fps_clean_train = morgan_concat(df_train_clean) #get fingerprints from full-length clean training dataset"
      ],
      "metadata": {
        "id": "KQBLZ_BfSmt3"
      },
      "execution_count": null,
      "outputs": []
    },
    {
      "cell_type": "markdown",
      "source": [
        "Balanced"
      ],
      "metadata": {
        "id": "qu0OVuraQpUF"
      }
    },
    {
      "cell_type": "code",
      "source": [
        "#run the k_fold cross validation\n",
        "clean_balanced_kfold = k_fold_validation(fps_clean_train, y_clean, balance = True)"
      ],
      "metadata": {
        "colab": {
          "base_uri": "https://localhost:8080/"
        },
        "id": "8isRMpZW3YrV",
        "outputId": "0a0a0ea9-27b4-4f31-8a95-f28ee7d7cb56"
      },
      "execution_count": null,
      "outputs": [
        {
          "output_type": "stream",
          "name": "stdout",
          "text": [
            "0\n",
            "Size of training 23804\n",
            "[0.78014980713385]\n",
            "[0.4114483954900261]\n",
            "[0.8477739116191377]\n",
            "1\n",
            "Size of training 23676\n",
            "[0.78014980713385, 0.7761876692161793]\n",
            "[0.4114483954900261, 0.4163464896961229]\n",
            "[0.8477739116191377, 0.8499484767154537]\n",
            "2\n",
            "Size of training 23564\n",
            "[0.78014980713385, 0.7761876692161793, 0.7776710466161922]\n",
            "[0.4114483954900261, 0.4163464896961229, 0.4234925060996863]\n",
            "[0.8477739116191377, 0.8499484767154537, 0.8527707121675929]\n",
            "3\n",
            "Size of training 23650\n",
            "[0.78014980713385, 0.7761876692161793, 0.7776710466161922, 0.7759867344143774]\n",
            "[0.4114483954900261, 0.4163464896961229, 0.4234925060996863, 0.4177956472336334]\n",
            "[0.8477739116191377, 0.8499484767154537, 0.8527707121675929, 0.8504323943920412]\n",
            "4\n",
            "Size of training 23738\n",
            "[0.78014980713385, 0.7761876692161793, 0.7776710466161922, 0.7759867344143774, 0.7798115900192313]\n",
            "[0.4114483954900261, 0.4163464896961229, 0.4234925060996863, 0.4177956472336334, 0.4159400069759329]\n",
            "[0.8477739116191377, 0.8499484767154537, 0.8527707121675929, 0.8504323943920412, 0.8501485916078444]\n"
          ]
        }
      ]
    },
    {
      "cell_type": "code",
      "source": [
        "predictions3, true_values3, acc3, bal_acc3, precision3, recall3, f1_3, auroc3= clean_balanced_kfold\n",
        "\n",
        "metrics = [\"Accuracy\", \"Balanced Accuracy\", \"Precision\", \"Recall\", \"F1 score\", \"AUROC\"]\n",
        "\n",
        "print(\"Balanced, clean data with k-fold (k=5) cross validation, averaged metrics \\n\")\n",
        "for i in range(len(metrics)):\n",
        "  print(metrics[i],\":\", np.mean(unclean_unbalanced_kfold[i+2]))"
      ],
      "metadata": {
        "colab": {
          "base_uri": "https://localhost:8080/"
        },
        "id": "wUl3f3qCQqzZ",
        "outputId": "d24b750f-6080-4ca1-b7e9-0536e31f36d0"
      },
      "execution_count": null,
      "outputs": [
        {
          "output_type": "stream",
          "name": "stdout",
          "text": [
            "Balanced, clean data with k-fold (k=5) cross validation, averaged metrics \n",
            "\n",
            "Accuracy : 0.7531978443898992\n",
            "Balanced Accuracy : 0.7742680518292048\n",
            "Precision : 0.2800075415397974\n",
            "Recall : 0.8012326118535003\n",
            "F1 score : 0.41493966803298854\n",
            "AUROC : 0.8473823826479997\n"
          ]
        }
      ]
    },
    {
      "cell_type": "markdown",
      "source": [
        "Unbalanced"
      ],
      "metadata": {
        "id": "6c2DrX6yQrJV"
      }
    },
    {
      "cell_type": "code",
      "source": [
        "clean_unbalanced_kfold = k_fold_validation(fps_clean_train, y_clean, balance = False) #using whole dataset"
      ],
      "metadata": {
        "colab": {
          "base_uri": "https://localhost:8080/"
        },
        "id": "mY2uRGxk3ymp",
        "outputId": "404b684d-d07d-47c5-8723-f7ca3a8eaa3c"
      },
      "execution_count": null,
      "outputs": [
        {
          "output_type": "stream",
          "name": "stdout",
          "text": [
            "0\n",
            "[0.5308984576598423]\n",
            "[0.12391499551032624]\n",
            "[0.8253168525435993]\n",
            "1\n",
            "[0.5308984576598423, 0.5264319922647842]\n",
            "[0.12391499551032624, 0.10970215275729875]\n",
            "[0.8253168525435993, 0.8253460388912176]\n",
            "2\n",
            "[0.5308984576598423, 0.5264319922647842, 0.5299759013135038]\n",
            "[0.12391499551032624, 0.10970215275729875, 0.12154377880184333]\n",
            "[0.8253168525435993, 0.8253460388912176, 0.8281001539858459]\n",
            "3\n",
            "[0.5308984576598423, 0.5264319922647842, 0.5299759013135038, 0.5252204876795662]\n",
            "[0.12391499551032624, 0.10970215275729875, 0.12154377880184333, 0.10554245283018868]\n",
            "[0.8253168525435993, 0.8253460388912176, 0.8281001539858459, 0.829039182707789]\n",
            "4\n",
            "[0.5308984576598423, 0.5264319922647842, 0.5299759013135038, 0.5252204876795662, 0.5268836476607459]\n",
            "[0.12391499551032624, 0.10970215275729875, 0.12154377880184333, 0.10554245283018868, 0.1114734657574859]\n",
            "[0.8253168525435993, 0.8253460388912176, 0.8281001539858459, 0.829039182707789, 0.8257092853596782]\n"
          ]
        }
      ]
    },
    {
      "cell_type": "code",
      "source": [
        "predictions5, true_values5, acc5, bal_acc5, precision5, recall5, f1_5, auroc5= clean_unbalanced_kfold\n",
        "\n",
        "print(\"Unbalanced, clean data with k-fold (k=5) cross validation, averaged metrics \\n\")\n",
        "for i in range(len(metrics)):\n",
        "  print(metrics[i],\":\", np.mean(unclean_unbalanced_kfold[i+2]))"
      ],
      "metadata": {
        "colab": {
          "base_uri": "https://localhost:8080/"
        },
        "id": "ncx3h13_4CjS",
        "outputId": "fe0b99d2-7e57-4dec-a541-2605419e8645"
      },
      "execution_count": null,
      "outputs": [
        {
          "output_type": "stream",
          "name": "stdout",
          "text": [
            "Unbalanced, clean data with k-fold (k=5) cross validation, averaged metrics \n",
            "\n",
            "Accuracy : 0.889440694716891\n",
            "Balanced Accuracy : 0.5283490931401666\n",
            "Precision : 0.45944930647430426\n",
            "Recall : 0.0662990000026496\n",
            "F1 score : 0.11581189433190638\n",
            "AUROC : 0.8274964425282452\n"
          ]
        }
      ]
    },
    {
      "cell_type": "markdown",
      "source": [
        "####2.3 Graph of comparison of training datasets on k-fold cross-validation"
      ],
      "metadata": {
        "id": "vAtYAWemdBm_"
      }
    },
    {
      "cell_type": "code",
      "source": [
        "#compare k-fold cross validation\n",
        "import numpy as np\n",
        "import scipy\n",
        "import matplotlib.pyplot as plt\n",
        "\n",
        "barWidth = 0.25\n",
        "fig = plt.subplots(figsize =(8, 5))\n",
        "\n",
        "#values here are the reported averages from metrics calculated from k-fold cross validation\n",
        "#I just put the values in manually since I didn't run everything in the same session and so that you can see the plot without running all the code\n",
        "bal_acc_all = [0.5283490931401666, 0.5283490931401666,0.7703518036956979,   0.7742680518292048]\n",
        "f1_all = [0.11581189433190638,0.11581189433190638, 0.4103209126802671,   0.41493966803298854]\n",
        "auroc_all = [0.8274964425282452, 0.8274964425282452,0.8453943371942712,  0.8473823826479997]\n",
        "\n",
        "# Set position of bar on X axis\n",
        "br1 = np.arange(len(bal_acc_all))\n",
        "br2 = [x + barWidth for x in br1]\n",
        "br3 = [x + barWidth for x in br2]\n",
        "\n",
        "# Make the plot\n",
        "plt.bar(br1, bal_acc_all,  width = barWidth,\n",
        "        edgecolor ='grey', label ='Balanced Accuracy')\n",
        "plt.bar(br2, f1_all,  width = barWidth,\n",
        "        edgecolor ='grey', label ='F1 score')\n",
        "plt.bar(br3, auroc_all, width = barWidth,\n",
        "        edgecolor ='grey', label ='AUROC')\n",
        "\n",
        "plt.xlabel('Dataset')\n",
        "plt.ylabel('Average Metric Value (k=5)')\n",
        "plt.title('Comparison of Metrics after k-fold (k=5) cross validation on training data', fontsize = 12)\n",
        "plt.xticks([r + barWidth for r in range(len(bal_acc_all))],\n",
        "        ['Dirty - unbalanced', 'Clean - unbalanced', 'Dirty - balanced', 'Clean - balanced'])\n",
        "\n",
        "\n",
        "plt.rcParams['axes.axisbelow'] = True\n",
        "plt.grid(zorder = -1)\n",
        "plt.legend(bbox_to_anchor = (1.1,1.1))\n",
        "plt.show()"
      ],
      "metadata": {
        "colab": {
          "base_uri": "https://localhost:8080/",
          "height": 496
        },
        "id": "kti0nW3BK0OE",
        "outputId": "7e3465e5-001a-47f6-a05d-81b6131d20cd"
      },
      "execution_count": null,
      "outputs": [
        {
          "output_type": "display_data",
          "data": {
            "text/plain": [
              "<Figure size 800x500 with 1 Axes>"
            ],
            "image/png": "[encoded data removed]"
          },
          "metadata": {}
        }
      ]
    },
    {
      "cell_type": "markdown",
      "source": [
        "### 3. Leave-one-drug-out validation"
      ],
      "metadata": {
        "id": "p1iJCYEow1Wb"
      }
    },
    {
      "cell_type": "code",
      "source": [
        "def leave_one_out(dataset, fingerprints, unique_drug_list, k_runs = 5, balance = False):\n",
        "  dataframe = dataset\n",
        "  fps = fingerprints\n",
        "  unique_drugs = unique_drug_list\n",
        "\n",
        "  predictions = np.array([])\n",
        "  true_values = np.array([])\n",
        "  acc = []\n",
        "  bal_acc = []\n",
        "  auroc = []\n",
        "  f1 = []\n",
        "  precision = []\n",
        "  recall = []\n",
        "\n",
        "  for k in range(0,k_runs): #5 loops through same as k-fold validation\n",
        "    print(k)\n",
        "\n",
        "    #randomly select a drug to be left out, then get all rows in dataframe that contain this drug to be validation data\n",
        "    valid_drug = random.choice(unique_drugs)\n",
        "    print(valid_drug)\n",
        "\n",
        "    #create validation set from pairs containing selected drug\n",
        "    validation_col1 = dataframe[dataframe[\"Drug1\"].values == valid_drug]\n",
        "    validation_col2 = dataframe[dataframe[\"Drug2\"].values == valid_drug]\n",
        "    validation = pd.concat([validation_col1, validation_col2], axis = 0)\n",
        "    test_index = validation.index.values\n",
        "    X_test = [fps[index] for index in test_index]\n",
        "    y_test = y[test_index]\n",
        "\n",
        "    train_index = dataframe.index.values\n",
        "    train_index = [i for i in train_index if i not in test_index]\n",
        "    X_train = [fps[index] for index in train_index]\n",
        "    y_train = y[train_index]\n",
        "\n",
        "    #create training dataset\n",
        "    if balance == True:\n",
        "      undersample = RandomUnderSampler(sampling_strategy = 'majority')\n",
        "      X_train, y_train = undersample.fit_resample(X_train, y_train)\n",
        "\n",
        "    print(\"size of training\", len(train_index))\n",
        "    print(\"size of testing\", len(test_index))\n",
        "\n",
        "    #train random forest model\n",
        "    model = RF()\n",
        "    model.fit(X_train,y_train)\n",
        "\n",
        "    #get predictions\n",
        "    y_pred = model.predict(X_test)\n",
        "    y_prob = model.predict_proba(X_test)\n",
        "    y_true = y_test\n",
        "\n",
        "    #metrics\n",
        "    acc.append(accuracy_score(y_true, y_pred))\n",
        "    bal_acc.append(balanced_accuracy_score(y_true, y_pred))\n",
        "    precision.append(precision_score(y_true, y_pred))\n",
        "    recall.append(recall_score(y_true, y_pred))\n",
        "    f1.append(f1_score(y_true, y_pred))\n",
        "    auroc.append(roc_auc_score(y_true, y_prob[:,1]))\n",
        "\n",
        "    predictions = np.append(predictions, y_pred)\n",
        "    true_values = np.append(true_values,y_true)\n",
        "\n",
        "  return predictions, true_values, acc, bal_acc, auroc, f1, precision, recall"
      ],
      "metadata": {
        "id": "TEzKKoYtd4kg"
      },
      "execution_count": null,
      "outputs": []
    },
    {
      "cell_type": "markdown",
      "source": [
        "####3.1 Unclean dataset"
      ],
      "metadata": {
        "id": "4UDdSW7ovdPT"
      }
    },
    {
      "cell_type": "code",
      "source": [
        "#get all possible drugs in the dataframe\n",
        "\n",
        "X = df_train[[\"Drug1\", \"Drug2\"]]\n",
        "y = df_train.Y\n",
        "\n",
        "firstcol_unique = X[\"Drug1\"].unique()\n",
        "secondcol_unique = X[\"Drug2\"].unique()\n",
        "\n",
        "all = np.concatenate([firstcol_unique,secondcol_unique])\n",
        "unique_drugs = np.unique(all)\n",
        "print(\"Number of unique drugs:\",len(unique_drugs))"
      ],
      "metadata": {
        "colab": {
          "base_uri": "https://localhost:8080/"
        },
        "id": "mTCKTJ-yw0pL",
        "outputId": "add9442f-bbd8-4b78-b07f-4d7feb24ebe2"
      },
      "execution_count": null,
      "outputs": [
        {
          "output_type": "stream",
          "name": "stdout",
          "text": [
            "Number of unique drugs: 589\n"
          ]
        }
      ]
    },
    {
      "cell_type": "markdown",
      "source": [
        "Unbalanced"
      ],
      "metadata": {
        "id": "VZ0EqmpPwYu9"
      }
    },
    {
      "cell_type": "code",
      "source": [
        "unclean_unbalanced_oneout = leave_one_out(df_train, fps_unclean_train, unique_drugs, k_runs=5, balance = False)"
      ],
      "metadata": {
        "colab": {
          "base_uri": "https://localhost:8080/"
        },
        "id": "UWGk7IPIwYNE",
        "outputId": "15cb88b0-8927-4817-d0d9-5fa42f54f957"
      },
      "execution_count": null,
      "outputs": [
        {
          "output_type": "stream",
          "name": "stdout",
          "text": [
            "0\n",
            "CC1=NN=C(S1)SCC2=C(N3C(C(C3=O)NC(=O)CN4C=NN=N4)SC2)C(=O)[O-]\n",
            "size of training 138074\n",
            "size of testing 458\n",
            "1\n",
            "C1CC(OC1CO)N2C=NC3=C2NC=NC3=O\n",
            "size of training 138053\n",
            "size of testing 479\n",
            "2\n",
            "CC1=C2C(C(=O)C3(C(CC4C(C3C(C(C2(C)C)(CC1OC(=O)C(C(C5=CC=CC=C5)NC(=O)OC(C)(C)C)O)O)OC(=O)C6=CC=CC=C6)(CO4)OC(=O)C)O)C)O\n",
            "size of training 138047\n",
            "size of testing 485\n",
            "3\n",
            "CC(=O)C1CCC2C1(CCC3C2CCC4=CC(=O)CCC34C)C\n",
            "size of training 138054\n",
            "size of testing 478\n",
            "4\n",
            "CC1=C(C(C(=C(N1)C)C(=O)OC(C)C)C2=CC=CC3=NON=C32)C(=O)OC\n",
            "size of training 138069\n",
            "size of testing 463\n"
          ]
        }
      ]
    },
    {
      "cell_type": "code",
      "source": [
        "predictions, true_values, acc, bal_acc, precision, recall, f1_, auroc= unclean_unbalanced_oneout\n",
        "metrics = [\"Accuracy\", \"Balanced Accuracy\", \"Precision\", \"Recall\", \"F1 score\", \"AUROC\"]\n",
        "\n",
        "print(\"Unbalanced, unclean data with leave-one-out validation, averaged metrics \\n\")\n",
        "for i in range(len(metrics)):\n",
        "  print(metrics[i],\":\", np.mean(unclean_unbalanced_oneout[i+2]))\n",
        "\n",
        "\n",
        "print(np.sum(predictions), \"pairs predicted as interacting\")\n",
        "print(np.sum(true_values), \"pairs actually interacting\")"
      ],
      "metadata": {
        "colab": {
          "base_uri": "https://localhost:8080/"
        },
        "id": "YW7yReTewJwM",
        "outputId": "766d2dff-9941-49e9-892d-2f4430abdb9d"
      },
      "execution_count": null,
      "outputs": [
        {
          "output_type": "stream",
          "name": "stdout",
          "text": [
            "Unbalanced, unclean data with leave-one-out validation, averaged metrics \n",
            "\n",
            "Accuracy : 0.8629487844443602\n",
            "Balanced Accuracy : 0.5253673956618762\n",
            "Precision : 0.777967036417103\n",
            "Recall : 0.10654983457402811\n",
            "F1 score : 0.4062042124542124\n",
            "AUROC : 0.08142697466467959\n",
            "93.0 pairs predicted as interacting\n",
            "283.0 pairs actually interacting\n"
          ]
        }
      ]
    },
    {
      "cell_type": "code",
      "source": [
        "#quick comparison of predicted positive and actual postive\n",
        "\n",
        "loc_pred = np.where(predictions == 1)[0]\n",
        "#print(loc_pred)\n",
        "print(len(loc_pred),\"predicted interactions\")\n",
        "\n",
        "loc_true = np.where(true_values == 1)[0]\n",
        "#print(loc_true)\n",
        "print(len(loc_true), \"true interactions\")\n",
        "\n",
        "union = np.intersect1d(loc_pred, loc_true)\n",
        "#print(union)\n",
        "print(len(union), \"correctly predicted interacting pairs\")"
      ],
      "metadata": {
        "colab": {
          "base_uri": "https://localhost:8080/"
        },
        "id": "Hs85Ha40Af_J",
        "outputId": "da0babe2-4db3-4527-996e-66fbd8b844a8"
      },
      "execution_count": null,
      "outputs": [
        {
          "output_type": "stream",
          "name": "stdout",
          "text": [
            "93 predicted interactions\n",
            "283 true interactions\n",
            "26 correctly predicted interacting pairs\n"
          ]
        }
      ]
    },
    {
      "cell_type": "markdown",
      "source": [
        "Balanced"
      ],
      "metadata": {
        "id": "d6DF9R-B1dZ5"
      }
    },
    {
      "cell_type": "code",
      "source": [
        "unclean_balanced_oneout = leave_one_out(df_train, fps_unclean_train, unique_drugs, k_runs=5, balance = True)"
      ],
      "metadata": {
        "colab": {
          "base_uri": "https://localhost:8080/"
        },
        "id": "jDjnezKI34X2",
        "outputId": "8ab44b34-c0dc-40b3-e29c-f826bb7e16dc"
      },
      "execution_count": null,
      "outputs": [
        {
          "output_type": "stream",
          "name": "stdout",
          "text": [
            "0\n",
            "CC(C)(C)NC(=O)C1CN(CCN1CC(CC(CC2=CC=CC=C2)C(=O)NC3C(CC4=CC=CC=C34)O)O)CC5=CN=CC=C5\n",
            "size of training 138065\n",
            "size of testing 467\n",
            "1\n",
            "COC1(C2N(C1=O)C(=C(CS2)COC(=O)N)C(=O)[O-])NC(=O)CC3=CC=CS3\n",
            "size of training 138065\n",
            "size of testing 467\n",
            "2\n",
            "S=[Se]\n",
            "size of training 138065\n",
            "size of testing 467\n",
            "3\n",
            "CC(C)(CC1=CC=CC=C1)N\n",
            "size of training 138062\n",
            "size of testing 470\n",
            "4\n",
            "C1CN(CCN1CCCN2C(=O)N3C=CC=CC3=N2)C4=CC(=CC=C4)Cl\n",
            "size of training 138073\n",
            "size of testing 459\n"
          ]
        }
      ]
    },
    {
      "cell_type": "code",
      "source": [
        "predictions, true_values, acc, bal_acc, precision, recall, f1_, auroc= unclean_balanced_oneout\n",
        "\n",
        "print(\"Balanced, unclean data with leave-one-out validation, averaged metrics \\n\")\n",
        "for i in range(len(metrics)):\n",
        "  print(metrics[i],\":\", np.mean(unclean_balanced_oneout[i+2]))\n",
        "\n",
        "print(np.sum(predictions), \"pairs predicted as interacting\")\n",
        "print(np.sum(true_values), \"pairs actually interacting\")"
      ],
      "metadata": {
        "colab": {
          "base_uri": "https://localhost:8080/"
        },
        "id": "JXat7uQF34hI",
        "outputId": "0f00c76d-04f2-4fd8-fdfd-d5c65d30ac6e"
      },
      "execution_count": null,
      "outputs": [
        {
          "output_type": "stream",
          "name": "stdout",
          "text": [
            "Balanced, unclean data with leave-one-out validation, averaged metrics \n",
            "\n",
            "Accuracy : 0.7974977783217205\n",
            "Balanced Accuracy : 0.7887872516982017\n",
            "Precision : 0.8348076349140225\n",
            "Recall : 0.1976202002252429\n",
            "F1 score : 0.13794644823411129\n",
            "AUROC : 0.7735294117647059\n",
            "508.0 pairs predicted as interacting\n",
            "102.0 pairs actually interacting\n"
          ]
        }
      ]
    },
    {
      "cell_type": "markdown",
      "source": [
        "####3.2 Clean dataset"
      ],
      "metadata": {
        "id": "BScmkxs-vpge"
      }
    },
    {
      "cell_type": "code",
      "source": [
        "X = df_train_clean[[\"Drug1\", \"Drug2\"]]\n",
        "y_clean = df_train_clean.Y\n",
        "\n",
        "firstcol_unique = X[\"Drug1\"].unique()\n",
        "secondcol_unique = X[\"Drug2\"].unique()\n",
        "\n",
        "all = np.concatenate([firstcol_unique,secondcol_unique])\n",
        "unique_drugs_clean = np.unique(all)\n",
        "print(\"Number of unique drugs:\",len(unique_drugs_clean))"
      ],
      "metadata": {
        "colab": {
          "base_uri": "https://localhost:8080/"
        },
        "id": "gTy6mKX3vo0d",
        "outputId": "d7fee4bc-b9b7-493a-bf3f-777bb5651d8c"
      },
      "execution_count": null,
      "outputs": [
        {
          "output_type": "stream",
          "name": "stdout",
          "text": [
            "Number of unique drugs: 583\n"
          ]
        }
      ]
    },
    {
      "cell_type": "markdown",
      "source": [
        "Unbalanced"
      ],
      "metadata": {
        "id": "0GWwXFEqHK1E"
      }
    },
    {
      "cell_type": "code",
      "source": [
        "clean_unbalanced_oneout = leave_one_out(df_train_clean, fps_clean_train, unique_drugs_clean, k_runs=5, balance = False)"
      ],
      "metadata": {
        "colab": {
          "base_uri": "https://localhost:8080/"
        },
        "id": "G6eY7dbVHLue",
        "outputId": "c0222ccf-53b2-4ba0-8802-1359b3f92c2c"
      },
      "execution_count": null,
      "outputs": [
        {
          "output_type": "stream",
          "name": "stdout",
          "text": [
            "0\n",
            "CN(C)CCCN1C2=CC=CC=C2SC3=C1C=C(C=C3)Cl\n",
            "size of training 135724\n",
            "size of testing 464\n"
          ]
        },
        {
          "output_type": "stream",
          "name": "stderr",
          "text": [
            "/usr/local/lib/python3.10/dist-packages/sklearn/metrics/_classification.py:1344: UndefinedMetricWarning: Precision is ill-defined and being set to 0.0 due to no predicted samples. Use `zero_division` parameter to control this behavior.\n",
            "  _warn_prf(average, modifier, msg_start, len(result))\n"
          ]
        },
        {
          "output_type": "stream",
          "name": "stdout",
          "text": [
            "1\n",
            "C1=CC=C2C(=C1)C=CC3=CC=CC=C3N2C(=O)N\n",
            "size of training 135726\n",
            "size of testing 462\n"
          ]
        },
        {
          "output_type": "stream",
          "name": "stderr",
          "text": [
            "/usr/local/lib/python3.10/dist-packages/sklearn/metrics/_classification.py:1344: UndefinedMetricWarning: Precision is ill-defined and being set to 0.0 due to no predicted samples. Use `zero_division` parameter to control this behavior.\n",
            "  _warn_prf(average, modifier, msg_start, len(result))\n"
          ]
        },
        {
          "output_type": "stream",
          "name": "stdout",
          "text": [
            "2\n",
            "CC(=O)OCC(CCN1C=NC2=CN=C(N=C21)N)COC(=O)C\n",
            "size of training 135725\n",
            "size of testing 463\n"
          ]
        },
        {
          "output_type": "stream",
          "name": "stderr",
          "text": [
            "/usr/local/lib/python3.10/dist-packages/sklearn/metrics/_classification.py:1344: UndefinedMetricWarning: Precision is ill-defined and being set to 0.0 due to no predicted samples. Use `zero_division` parameter to control this behavior.\n",
            "  _warn_prf(average, modifier, msg_start, len(result))\n"
          ]
        }
      ]
    },
    {
      "cell_type": "code",
      "source": [
        "predictions, true_values, acc, bal_acc, precision, recall, f1_, auroc= clean_unbalanced_oneout\n",
        "metrics = [\"Accuracy\", \"Balanced Accuracy\", \"Precision\", \"Recall\", \"F1 score\", \"AUROC\"]\n",
        "\n",
        "print(\"Unbalanced, clean data with leave-one-out validation, averaged metrics \\n\")\n",
        "for i in range(len(metrics)):\n",
        "  print(metrics[i],\":\", np.mean(clean_unbalanced_oneout[i+2]))\n",
        "\n",
        "\n",
        "print(np.sum(predictions), \"pairs predicted as interacting\")\n",
        "print(np.sum(true_values), \"pairs actually interacting\")"
      ],
      "metadata": {
        "colab": {
          "base_uri": "https://localhost:8080/"
        },
        "id": "YG5-IcI1HMN5",
        "outputId": "44876deb-1b0e-4ae5-c74e-9729a1885ace"
      },
      "execution_count": null,
      "outputs": [
        {
          "output_type": "stream",
          "name": "stdout",
          "text": [
            "Unbalanced, clean data with leave-one-out validation, averaged metrics \n",
            "\n",
            "Accuracy : 0.8905823964893377\n",
            "Balanced Accuracy : 0.5\n",
            "Precision : 0.5028174046005468\n",
            "Recall : 0.0\n",
            "F1 score : 0.0\n",
            "AUROC : 0.0\n",
            "0.0 pairs predicted as interacting\n",
            "152.0 pairs actually interacting\n"
          ]
        }
      ]
    },
    {
      "cell_type": "markdown",
      "source": [
        "Balanced"
      ],
      "metadata": {
        "id": "UAEw7tm4HMdE"
      }
    },
    {
      "cell_type": "code",
      "source": [
        "clean_balanced_oneout = leave_one_out(df_train_clean, fps_clean_train, unique_drugs_clean, k_runs=5, balance = True)"
      ],
      "metadata": {
        "colab": {
          "base_uri": "https://localhost:8080/"
        },
        "id": "WplMXbBAHNGH",
        "outputId": "c6236e9c-7fbe-40b7-ae40-e89e00f6c5a3"
      },
      "execution_count": null,
      "outputs": [
        {
          "output_type": "stream",
          "name": "stdout",
          "text": [
            "0\n",
            "C1C(N(C2=C(N1)NC(=NC2=O)N)C=O)CNC3=CC=C(C=C3)C(=O)NC(CCC(=O)O)C(=O)O\n",
            "size of training 135721\n",
            "size of testing 467\n",
            "1\n",
            "CCC(C(C)O)N1C(=O)N(C=N1)C2=CC=C(C=C2)N3CCN(CC3)C4=CC=C(C=C4)OCC5CC(OC5)(CN6C=NC=N6)C7=C(C=C(C=C7)F)F\n",
            "size of training 135713\n",
            "size of testing 475\n",
            "2\n",
            "C1CC2=C(C=CC(=C2)Cl)C(=C3CCNCC3)C4=C1C=CC=N4\n",
            "size of training 135728\n",
            "size of testing 460\n",
            "3\n",
            "CNC1(CCCCC1=O)C2=CC=CC=C2Cl\n",
            "size of training 135719\n",
            "size of testing 469\n",
            "4\n",
            "CC(=O)NC1C(C(C(OC1O)COS(=O)(=O)O)OC2C(C(C(C(O2)C(=O)O)OC3C(C(C(C(O3)CO)OC4C(C(C(C(O4)C(=O)O)O)O)OS(=O)(=O)O)OS(=O)(=O)O)NS(=O)(=O)O)O)OS(=O)(=O)O)O\n",
            "size of training 135722\n",
            "size of testing 466\n"
          ]
        }
      ]
    },
    {
      "cell_type": "code",
      "source": [
        "predictions, true_values, acc, bal_acc, precision, recall, f1_, auroc= clean_balanced_oneout\n",
        "metrics = [\"Accuracy\", \"Balanced Accuracy\", \"Precision\", \"Recall\", \"F1 score\", \"AUROC\"]\n",
        "\n",
        "print(\"Balanced, clean data with leave-one-out validation, averaged metrics \\n\")\n",
        "for i in range(len(metrics)):\n",
        "  print(metrics[i],\":\", np.mean(clean_balanced_oneout[i+2]))\n",
        "\n",
        "\n",
        "print(np.sum(predictions), \"pairs predicted as interacting\")\n",
        "print(np.sum(true_values), \"pairs actually interacting\")"
      ],
      "metadata": {
        "colab": {
          "base_uri": "https://localhost:8080/"
        },
        "id": "c8o26M-lHNNx",
        "outputId": "87111125-e2f1-469e-9b75-a3fe95f48d0c"
      },
      "execution_count": null,
      "outputs": [
        {
          "output_type": "stream",
          "name": "stdout",
          "text": [
            "Balanced, clean data with leave-one-out validation, averaged metrics \n",
            "\n",
            "Accuracy : 0.47185609238321763\n",
            "Balanced Accuracy : 0.4999026997854088\n",
            "Precision : 0.5165559203206849\n",
            "Recall : 0.17471251177826858\n",
            "F1 score : 0.10597367390968715\n",
            "AUROC : 0.5353854329253266\n",
            "1253.0 pairs predicted as interacting\n",
            "247.0 pairs actually interacting\n"
          ]
        }
      ]
    },
    {
      "cell_type": "markdown",
      "source": [
        "####3.3 Graph of comparison for leave-one-drug-out\n",
        "\n",
        "Brief discussion of k-fold and leave-one-out validation strategies below"
      ],
      "metadata": {
        "id": "4mp-MrlmIhmW"
      }
    },
    {
      "cell_type": "code",
      "source": [
        "fig = plt.subplots(figsize =(8, 5))\n",
        "barWidth = .25\n",
        "\n",
        "#dirty unbalanced, clean unbalanced, dirty balanced, clean balanced\n",
        "\n",
        "balanced = [0.5253673956618762, .5, 0.7887872516982017, .4999026997854088]\n",
        "f1score = [0.4062042124542124,0,0.13794644823411129, 0.10597367390968715]\n",
        "auroc = [0.08142697466467959, 0, 0.7735294117647059, 0.5353854329253266]\n",
        "\n",
        "# Set position of bar on X axis\n",
        "br1 = np.arange(len(balanced))\n",
        "br2 = [x + barWidth for x in br1]\n",
        "br3 = [x + barWidth for x in br2]\n",
        "\n",
        "# Make the plot\n",
        "plt.bar(br1, balanced,  width = barWidth,\n",
        "        edgecolor ='grey', label ='Balanced Accuracy')\n",
        "plt.bar(br2, f1score,  width = barWidth,\n",
        "        edgecolor ='grey', label ='F1 score')\n",
        "plt.bar(br3, auroc, width = barWidth,\n",
        "        edgecolor ='grey', label ='AUROC')\n",
        "\n",
        "# Adding Xticks\n",
        "plt.xlabel('Dataset')\n",
        "plt.ylabel('Average Metric Value (k=5)')\n",
        "plt.title('Comparison of Metrics, leave-one-drug-out', fontsize = 12)\n",
        "plt.xticks([r + barWidth for r in range(len(balanced))],\n",
        "        ['Dirty-unbalanced', 'Clean-unbalanced', 'Dirty-balanced', 'Clean-balanced'])\n",
        "\n",
        "plt.ylim(0,.8)\n",
        "plt.rcParams['axes.axisbelow'] = True\n",
        "plt.grid(zorder = -1)\n",
        "plt.legend(bbox_to_anchor = (1.4,1.1))\n",
        "plt.show()"
      ],
      "metadata": {
        "colab": {
          "base_uri": "https://localhost:8080/",
          "height": 496
        },
        "id": "7ANLzYq07psU",
        "outputId": "df10479b-9a4e-4e54-9444-b8f426f63bdf"
      },
      "execution_count": null,
      "outputs": [
        {
          "output_type": "display_data",
          "data": {
            "text/plain": [
              "<Figure size 800x500 with 1 Axes>"
            ],
            "image/png": "[encoded data removed]"
          },
          "metadata": {}
        }
      ]
    },
    {
      "cell_type": "markdown",
      "source": [
        "**Discussion and comments:**\n",
        "\n",
        "Concatenated Morgan fingerprints (each drug has a vector length of 1024, total vector length after concatenation 2048) were used as the input to a random forest model.\n",
        "\n",
        "K-fold cross-validation showed significant improvement of performance when using the balanced dataset compared to unbalanced (AUROC, balanced accuracy, and F1 score all above 0.75 when averaged across k rounds of validation). This involved a balanced training and balanced validation set. Using unbalanced data, the performance was not significantly better than random (AUROC and balanced accuracy near 0.5). We do not see a noticeable difference between using the cleaned (salts and minor components removed, drug pairs consisting of only salts or minor components removed) and uncleaned (raw) data. This is likely because minor components do not show up in the Morgan fingerprint vector representation.\n",
        "\n",
        "Leave-one-drug-out involved creating a list of all unique drugs in the dataset, and for each round of validation randomly selecting one drug, taking all pairs containing this drug based on the SMILES representation and separating these to be used as validation, and training on the remaining pairs in the training dataset. Most of the drugs tested here were found in somewhere between 400 and 500 of the pairs in the dataset, leaving over 100,000 for training for each round. The results of this were not promising: using 5 rounds of leave-one-drug-out (different drugs each time), the model over-predicted 0 (no interaction class) for these pairs including drugs it had never seen before. Notably, when we did the cleaned, unbalanced dataset for training, the model did not predict any 1s (all predictions were 0s), leading to a balanced accuracy of 0.5 and AUROC and F1 of 0. This could be randomly that the 5 drugs randomly selected to be left out made up fewer interacting pairs in the data, but generally indicated poor performance of this model/embedding when predicting interactions on \"new\" drugs. It is possible that if we repeated this process enough that we could look at every drug, we could find one that the model predicts as having a kidney-failure related interaction for some of the pairs more accurately, even for the cleaned unbalanced dataset.\n",
        "\n",
        "Notably and a distinction between the two validation methods, leave-one-drug-out has a very low balanced accuracy (just above 0.5) for both the unbalanced *and balanced* data, which was very interesting and indicates that both classes could not be predicted accurately. As an experiment (not shown in this notebook), we also tried balancing the dataset before performing leave-one-out validation. Each unique drug was present in fewer pairs, and the model was never able to predict an interaction even when trained on balanced data, more specifically it always predicted 0. This combined with the above results shows that this embedding and model combination is mot particularly good at predicting anything for novel drugs."
      ],
      "metadata": {
        "id": "Z_UK2TBwC_sz"
      }
    },
    {
      "cell_type": "markdown",
      "source": [
        "###4. Performance of models on testing data"
      ],
      "metadata": {
        "id": "1xVgdbhrlwht"
      }
    },
    {
      "cell_type": "markdown",
      "source": [
        "#### 4.1 Clean data (salts and minor components removed)"
      ],
      "metadata": {
        "id": "pY8brmvrXuQR"
      }
    },
    {
      "cell_type": "markdown",
      "source": [
        "Full (unbalanced) dataset"
      ],
      "metadata": {
        "id": "-TtpRupelyaz"
      }
    },
    {
      "cell_type": "code",
      "source": [
        "#load in train and test csv files\n",
        "clean_test_file = \"/content/drive/MyDrive/BME 590 Colab files/clean_test_ddi.csv\"\n",
        "clean_train_file = \"/content/drive/MyDrive/BME 590 Colab files/clean_train_ddi.csv\"\n",
        "\n",
        "#get smiles and interaction (0 or 1) from the dataframe\n",
        "df_train_clean = pd.read_csv(clean_train_file)\n",
        "df_train_clean = df_train_clean.iloc[:, [3, 5, 6]] #get smiles1, smiles2, and interaction classification (1 or 0)\n",
        "\n",
        "df_test_clean = pd.read_csv(clean_test_file)\n",
        "df_test_clean = df_test_clean.iloc[:, [3, 5, 6]] #get smiles1, smiles2, and interaction classification (1 or 0)\n",
        "\n",
        "y_train = df_train_clean.Y\n",
        "l = len(df_train_clean)\n",
        "actives_train = np.sum(y_train)\n",
        "\n",
        "print(\"Training data length:\", l)\n",
        "print(\"Number of drug pairs with DDIs\",actives_train, \"\\t\",actives_train/l*100, \"% of training dataframe\")\n",
        "print(\"Number of non-DDI drug pairs\", l - actives_train, \"\\t\",(l-actives_train)/l*100, \"% of training dataframe\")\n",
        "\n",
        "y_test = df_test_clean.Y\n",
        "l2 = len(df_test_clean)\n",
        "actives_test = np.sum(y_test)\n",
        "\n",
        "print(\"\\nTesting data length:\", l2)\n",
        "print(\"Number of drug pairs with DDIs\",actives_test, \"\\t\",actives_test/l2*100, \"% of testing dataframe\")\n",
        "print(\"Number of non-DDI drug pairs\", l2 - actives_test, \"\\t\",(l2-actives_test)/l2*100, \"% of testing dataframe\")"
      ],
      "metadata": {
        "colab": {
          "base_uri": "https://localhost:8080/"
        },
        "id": "yZjU41L1lr8i",
        "outputId": "359cd593-f930-4e63-ef96-3b596d5fde60"
      },
      "execution_count": null,
      "outputs": [
        {
          "output_type": "stream",
          "name": "stdout",
          "text": [
            "Training data length: 136188\n",
            "Number of drug pairs with DDIs 14804 \t 10.870267571298498 % of training dataframe\n",
            "Number of non-DDI drug pairs 121384 \t 89.1297324287015 % of training dataframe\n",
            "\n",
            "Testing data length: 34048\n",
            "Number of drug pairs with DDIs 3659 \t 10.746593045112782 % of testing dataframe\n",
            "Number of non-DDI drug pairs 30389 \t 89.25340695488721 % of testing dataframe\n"
          ]
        }
      ]
    },
    {
      "cell_type": "code",
      "source": [
        "#get fingerprints\n",
        "\n",
        "fps_train = morgan_concat(df_train_clean)\n",
        "fps_test = morgan_concat(df_test_clean)\n",
        "\n",
        "#create balanced dataset for training\n",
        "undersample = RandomUnderSampler(sampling_strategy='majority') #in majority sampling strategy, will undersmaple the majority class to be the same size as minority. We can play with other methods\n",
        "fps_train_balanced, y_train_balanced = undersample.fit_resample(fps_train, y_train)\n",
        "\n",
        "print(\"Size of balanced dataset from undersampling\",len(y_train_balanced))\n",
        "print(\"Number of DDI pairs\",np.sum(y_train_balanced))"
      ],
      "metadata": {
        "colab": {
          "base_uri": "https://localhost:8080/"
        },
        "id": "JTEHO3pSo2Go",
        "outputId": "e8b67de9-b476-46ac-ec36-e254b37055e9"
      },
      "execution_count": null,
      "outputs": [
        {
          "output_type": "stream",
          "name": "stdout",
          "text": [
            "Size of balanced dataset from undersampling 29608\n",
            "Number of DDI pairs 14804\n"
          ]
        }
      ]
    },
    {
      "cell_type": "markdown",
      "source": [
        "Balanced training dataset\n",
        "- train the model on the balanced training dataset, make predictions on unbalanced testing data"
      ],
      "metadata": {
        "id": "nyjw3V7rl28D"
      }
    },
    {
      "cell_type": "code",
      "source": [
        "#clean, balanced\n",
        "\n",
        "#train random forest model\n",
        "model = RF()\n",
        "model.fit(fps_train_balanced,y_train_balanced)\n",
        "\n",
        "#get predictions\n",
        "y_pred = model.predict(fps_test)\n",
        "y_prob = model.predict_proba(fps_test)\n",
        "y_true = y_test\n",
        "\n",
        "#metrics\n",
        "print(\"Accuracy\",accuracy_score(y_true, y_pred))\n",
        "print(\"Balanced accuracy\",balanced_accuracy_score(y_true, y_pred))\n",
        "print(\"Precision\",precision_score(y_true, y_pred))\n",
        "print(\"Recall\",recall_score(y_true, y_pred))\n",
        "print(\"F1 score\",f1_score(y_true, y_pred))\n",
        "print(\"AUROC\",roc_auc_score(y_true, y_prob[:,1]))"
      ],
      "metadata": {
        "colab": {
          "base_uri": "https://localhost:8080/"
        },
        "id": "g7iCJF0qphK7",
        "outputId": "495bf505-66d7-43dd-82cb-1aec7e9ca577"
      },
      "execution_count": null,
      "outputs": [
        {
          "output_type": "stream",
          "name": "stdout",
          "text": [
            "Accuracy 0.7545523966165414\n",
            "Balanced accuracy 0.777400795304748\n",
            "Precision 0.2783962264150943\n",
            "Recall 0.8065045094288057\n",
            "F1 score 0.41391401921593374\n",
            "AUROC 0.8544405591301945\n"
          ]
        }
      ]
    },
    {
      "cell_type": "markdown",
      "source": [
        "Unbalanced training dataset"
      ],
      "metadata": {
        "id": "HfVymKpNuHiM"
      }
    },
    {
      "cell_type": "code",
      "source": [
        "#train random forest model\n",
        "model = RF()\n",
        "model.fit(fps_train,y_train)\n",
        "\n",
        "#get predictions\n",
        "y_pred = model.predict(fps_test)\n",
        "y_prob = model.predict_proba(fps_test)\n",
        "y_true = y_test\n",
        "\n",
        "#metrics\n",
        "print(\"Accuracy\",accuracy_score(y_true, y_pred))\n",
        "print(\"Balanced accuracy\",balanced_accuracy_score(y_true, y_pred))\n",
        "print(\"Precision\",precision_score(y_true, y_pred))\n",
        "print(\"Recall\",recall_score(y_true, y_pred))\n",
        "print(\"F1 score\",f1_score(y_true, y_pred))\n",
        "print(\"AUROC\",roc_auc_score(y_true, y_prob[:,1]))"
      ],
      "metadata": {
        "colab": {
          "base_uri": "https://localhost:8080/"
        },
        "id": "DVvg0P_fuGze",
        "outputId": "8dad9a4b-2d00-4be9-85d4-70cb8464bc63"
      },
      "execution_count": null,
      "outputs": [
        {
          "output_type": "stream",
          "name": "stdout",
          "text": [
            "Accuracy 0.8912711466165414\n",
            "Balanced accuracy 0.5297021042202424\n",
            "Precision 0.46083788706739526\n",
            "Recall 0.06914457502049741\n",
            "F1 score 0.12024714828897339\n",
            "AUROC 0.8310225132076468\n"
          ]
        }
      ]
    },
    {
      "cell_type": "markdown",
      "source": [
        "#### 4.2 Unclean data"
      ],
      "metadata": {
        "id": "hUn_jo8Eaut_"
      }
    },
    {
      "cell_type": "code",
      "source": [
        "#load in train and test csv files\n",
        "dirty_test_file = \"/content/drive/MyDrive/BME 590 Colab files/dirty_test_ddi.csv\"\n",
        "dirty_train_file = \"/content/drive/MyDrive/BME 590 Colab files/dirty_train_ddi.csv\"\n",
        "\n",
        "#get smiles and interaction (0 or 1) from the dataframe\n",
        "df_train_dirty = pd.read_csv(dirty_train_file)\n",
        "df_train_dirty = df_train_dirty.iloc[:, [3, 5, 6]] #get smiles1, smiles2, and interaction classification (1 or 0)\n",
        "\n",
        "df_test_dirty = pd.read_csv(dirty_test_file)\n",
        "df_test_dirty = df_test_dirty.iloc[:, [3, 5, 6]] #get smiles1, smiles2, and interaction classification (1 or 0)\n",
        "\n",
        "y_train = df_train_dirty.Y\n",
        "l = len(df_train_dirty)\n",
        "actives_train = np.sum(y_train)\n",
        "\n",
        "print(\"Training data length:\", l)\n",
        "print(\"Number of drug pairs with DDIs\",actives_train, \"\\t\",actives_train/l*100, \"% of training dataframe\")\n",
        "print(\"Number of non-DDI drug pairs\", l - actives_train, \"\\t\",(l-actives_train)/l*100, \"% of training dataframe\")\n",
        "\n",
        "y_test = df_test_dirty.Y\n",
        "l2 = len(df_test_dirty)\n",
        "actives_test = np.sum(y_test)\n",
        "\n",
        "print(\"\\nTesting data length:\", l2)\n",
        "print(\"Number of drug pairs with DDIs\",actives_test, \"\\t\",actives_test/l2*100, \"% of testing dataframe\")\n",
        "print(\"Number of non-DDI drug pairs\", l2 - actives_test, \"\\t\",(l2-actives_test)/l2*100, \"% of testing dataframe\")"
      ],
      "metadata": {
        "colab": {
          "base_uri": "https://localhost:8080/"
        },
        "id": "q5wwVz6mawNN",
        "outputId": "51ec3919-cf44-49ef-976e-425d16b73e04"
      },
      "execution_count": null,
      "outputs": [
        {
          "output_type": "stream",
          "name": "stdout",
          "text": [
            "Training data length: 138532\n",
            "Number of drug pairs with DDIs 15134 \t 10.924551728120578 % of training dataframe\n",
            "Number of non-DDI drug pairs 123398 \t 89.07544827187942 % of training dataframe\n",
            "\n",
            "Testing data length: 34634\n",
            "Number of drug pairs with DDIs 3758 \t 10.850609227926315 % of testing dataframe\n",
            "Number of non-DDI drug pairs 30876 \t 89.14939077207369 % of testing dataframe\n"
          ]
        }
      ]
    },
    {
      "cell_type": "code",
      "source": [
        "#get fingerprints\n",
        "\n",
        "fps_train_dirty = morgan_concat(df_train_dirty)\n",
        "fps_test_dirty = morgan_concat(df_test_dirty)\n",
        "\n",
        "#create balanced dataset for training\n",
        "undersample = RandomUnderSampler(sampling_strategy='majority') #in majority sampling strategy, will undersmaple the majority class to be the same size as minority. We can play with other methods\n",
        "fps_train_balanced_dirty, y_train_balanced_dirty = undersample.fit_resample(fps_train_dirty, y_train)\n",
        "\n",
        "print(\"Size of balanced dataset from undersampling\",len(y_train_balanced_dirty))\n",
        "print(\"Number of DDI pairs\",np.sum(y_train_balanced))"
      ],
      "metadata": {
        "colab": {
          "base_uri": "https://localhost:8080/"
        },
        "id": "f8kDFjbXbKz_",
        "outputId": "a8e3ddfe-28a1-478c-b2e4-900c20500259"
      },
      "execution_count": null,
      "outputs": [
        {
          "output_type": "stream",
          "name": "stdout",
          "text": [
            "Size of balanced dataset from undersampling 30268\n",
            "Number of DDI pairs 14804\n"
          ]
        }
      ]
    },
    {
      "cell_type": "code",
      "source": [
        "#balanced dirty dataset\n",
        "\n",
        "#train random forest model\n",
        "model = RF()\n",
        "model.fit(fps_train_balanced_dirty,y_train_balanced_dirty)\n",
        "\n",
        "#get predictions\n",
        "y_pred = model.predict(fps_test_dirty)\n",
        "y_prob = model.predict_proba(fps_test_dirty)\n",
        "y_true = y_test\n",
        "\n",
        "#metrics\n",
        "print(\"Accuracy\",accuracy_score(y_true, y_pred))\n",
        "print(\"Balanced accuracy\",balanced_accuracy_score(y_true, y_pred))\n",
        "print(\"Precision\",precision_score(y_true, y_pred))\n",
        "print(\"Recall\",recall_score(y_true, y_pred))\n",
        "print(\"F1 score\",f1_score(y_true, y_pred))\n",
        "print(\"AUROC\",roc_auc_score(y_true, y_prob[:,1]))"
      ],
      "metadata": {
        "colab": {
          "base_uri": "https://localhost:8080/"
        },
        "id": "H1FCodpwbTO9",
        "outputId": "0137a1c4-13e3-4a66-bba9-61b4d3765e7f"
      },
      "execution_count": null,
      "outputs": [
        {
          "output_type": "stream",
          "name": "stdout",
          "text": [
            "Accuracy 0.7525841658485881\n",
            "Balanced accuracy 0.7752294780591921\n",
            "Precision 0.2783970520497467\n",
            "Recall 0.8041511442256519\n",
            "F1 score 0.4136043249161705\n",
            "AUROC 0.8496751818687823\n"
          ]
        }
      ]
    },
    {
      "cell_type": "code",
      "source": [
        "#unbalanced dirty dataset\n",
        "\n",
        "#train random forest model\n",
        "model = RF()\n",
        "model.fit(fps_train_dirty,y_train)\n",
        "\n",
        "#get predictions\n",
        "y_pred = model.predict(fps_test_dirty)\n",
        "y_prob = model.predict_proba(fps_test_dirty)\n",
        "y_true = y_test\n",
        "\n",
        "#metrics\n",
        "print(\"Accuracy\",accuracy_score(y_true, y_pred))\n",
        "print(\"Balanced accuracy\",balanced_accuracy_score(y_true, y_pred))\n",
        "print(\"Precision\",precision_score(y_true, y_pred))\n",
        "print(\"Recall\",recall_score(y_true, y_pred))\n",
        "print(\"F1 score\",f1_score(y_true, y_pred))\n",
        "print(\"AUROC\",roc_auc_score(y_true, y_prob[:,1]))"
      ],
      "metadata": {
        "colab": {
          "base_uri": "https://localhost:8080/"
        },
        "id": "RzUe-9zRbTUT",
        "outputId": "3c3df540-0bd2-46c2-ed37-91eb9290bb72"
      },
      "execution_count": null,
      "outputs": [
        {
          "output_type": "stream",
          "name": "stdout",
          "text": [
            "Accuracy 0.8901657330946469\n",
            "Balanced accuracy 0.5309229760119294\n",
            "Precision 0.4608843537414966\n",
            "Recall 0.07211282597126131\n",
            "F1 score 0.1247123791992637\n",
            "AUROC 0.8288572451491143\n"
          ]
        }
      ]
    },
    {
      "cell_type": "markdown",
      "source": [
        "####4.3 Graph and analysis\n",
        "\n",
        "See short discussion below graph"
      ],
      "metadata": {
        "id": "lmHLpj-sGrzX"
      }
    },
    {
      "cell_type": "code",
      "source": [
        "fig = plt.subplots(figsize =(8, 5))\n",
        "barWidth = .25\n",
        "\n",
        "#dirty unbalanced, clean unbalanced, dirty balanced, clean balanced\n",
        "\n",
        "balanced = [0.5309229760119294, 0.5297021042202424, 0.7752294780591921, 0.777400795304748]\n",
        "f1score = [0.1247123791992637, 0.12024714828897339, 0.4136043249161705, 0.41391401921593374]\n",
        "auroc = [0.8288572451491143, .8310225132076468, 0.8496751818687823, 0.8544405591301945]\n",
        "\n",
        "# Set position of bar on X axis\n",
        "br1 = np.arange(len(balanced))\n",
        "br2 = [x + barWidth for x in br1]\n",
        "br3 = [x + barWidth for x in br2]\n",
        "\n",
        "# Make the plot\n",
        "plt.bar(br1, balanced,  width = barWidth,\n",
        "        edgecolor ='grey', label ='Balanced Accuracy')\n",
        "plt.bar(br2, f1score,  width = barWidth,\n",
        "        edgecolor ='grey', label ='F1 score')\n",
        "plt.bar(br3, auroc, width = barWidth,\n",
        "        edgecolor ='grey', label ='AUROC')\n",
        "\n",
        "# Adding Xticks\n",
        "plt.xlabel('Dataset')\n",
        "plt.ylabel('Metric Value')\n",
        "plt.title('Comparison of Metrics', fontsize = 12)\n",
        "plt.xticks([r + barWidth for r in range(len(balanced))],\n",
        "        ['Dirty-unbalanced', 'Clean-unbalanced', 'Dirty-balanced', 'Clean-balanced'])\n",
        "\n",
        "\n",
        "plt.rcParams['axes.axisbelow'] = True\n",
        "plt.grid(zorder = -2)\n",
        "plt.legend(bbox_to_anchor = (1.1, 1.1))\n",
        "plt.show()"
      ],
      "metadata": {
        "colab": {
          "base_uri": "https://localhost:8080/",
          "height": 496
        },
        "id": "Klxys71qe-w2",
        "outputId": "a2e8f5b2-cf9b-4122-b4b8-8068fa29a394"
      },
      "execution_count": null,
      "outputs": [
        {
          "output_type": "display_data",
          "data": {
            "text/plain": [
              "<Figure size 800x500 with 1 Axes>"
            ],
            "image/png": "[encoded data removed]"
          },
          "metadata": {}
        }
      ]
    },
    {
      "cell_type": "markdown",
      "source": [
        "**Discussion and comments**\n",
        "\n",
        "Random forest model with concatenated Morgan fingerprint vectors as inputs, assessed on testing data:\n",
        "\n",
        "To assess model performance on the testing set, we tried our four different variations of the training set: using either cleaned or uncleaned drug representations, and using either unbalanced (full training dataset) or balanced (random undersampling of majority class) data. The testing data was cleaned but not modified (ie balanced), as we do not expect that experimentally or clinically obtained data about drug pairs will be balanced. We observed not much better than random performance when using the unbalanced training data, and significantly improved performace (AUROC and balanced accuracy above 0.75, F1 score above 0.4) using balanced training data."
      ],
      "metadata": {
        "id": "ZobFBtFiFSat"
      }
    }
  ],
  "metadata": {
    "colab": {
      "provenance": []
    },
    "kernelspec": {
      "display_name": "Python 3",
      "name": "python3"
    },
    "language_info": {
      "name": "python"
    }
  },
  "nbformat": 4,
  "nbformat_minor": 0
}